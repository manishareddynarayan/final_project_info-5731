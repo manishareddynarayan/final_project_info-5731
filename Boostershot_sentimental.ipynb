{
  "nbformat": 4,
  "nbformat_minor": 0,
  "metadata": {
    "colab": {
      "name": "Boostershot_sentimental.ipynb",
      "provenance": []
    },
    "kernelspec": {
      "name": "python3",
      "display_name": "Python 3"
    },
    "language_info": {
      "name": "python"
    }
  },
  "cells": [
    {
      "cell_type": "code",
      "execution_count": 48,
      "metadata": {
        "colab": {
          "base_uri": "https://localhost:8080/",
          "height": 424
        },
        "id": "7CYV9ILyDK8i",
        "outputId": "bdc5b1ad-8818-4468-9a4d-3c6c01171d56"
      },
      "outputs": [
        {
          "output_type": "execute_result",
          "data": {
            "text/html": [
              "<div>\n",
              "<style scoped>\n",
              "    .dataframe tbody tr th:only-of-type {\n",
              "        vertical-align: middle;\n",
              "    }\n",
              "\n",
              "    .dataframe tbody tr th {\n",
              "        vertical-align: top;\n",
              "    }\n",
              "\n",
              "    .dataframe thead th {\n",
              "        text-align: right;\n",
              "    }\n",
              "</style>\n",
              "<table border=\"1\" class=\"dataframe\">\n",
              "  <thead>\n",
              "    <tr style=\"text-align: right;\">\n",
              "      <th></th>\n",
              "      <th>Unnamed: 0</th>\n",
              "      <th>text</th>\n",
              "      <th>date</th>\n",
              "      <th>user</th>\n",
              "      <th>location</th>\n",
              "    </tr>\n",
              "  </thead>\n",
              "  <tbody>\n",
              "    <tr>\n",
              "      <th>0</th>\n",
              "      <td>0</td>\n",
              "      <td>NEW Dark Angels &amp;amp; Pretty Freaks #Podcast #...</td>\n",
              "      <td>2021-12-05 22:26:40</td>\n",
              "      <td>DAPFpodcast</td>\n",
              "      <td>Napa, California</td>\n",
              "    </tr>\n",
              "    <tr>\n",
              "      <th>1</th>\n",
              "      <td>1</td>\n",
              "      <td>@nancy_stanners hi CAROL, yea took a while to ...</td>\n",
              "      <td>2021-12-05 22:22:44</td>\n",
              "      <td>ActivistBowen2</td>\n",
              "      <td>Hong Kong</td>\n",
              "    </tr>\n",
              "    <tr>\n",
              "      <th>2</th>\n",
              "      <td>2</td>\n",
              "      <td>Is it a bad sign if your husband starts dancin...</td>\n",
              "      <td>2021-12-05 22:02:45</td>\n",
              "      <td>Emmie12750</td>\n",
              "      <td>Massachusetts</td>\n",
              "    </tr>\n",
              "    <tr>\n",
              "      <th>3</th>\n",
              "      <td>3</td>\n",
              "      <td>RT @DrEricDing: Norwegian 🇳🇴 Christmas #Omicro...</td>\n",
              "      <td>2021-12-05 22:02:12</td>\n",
              "      <td>PrinPeta</td>\n",
              "      <td>Pretty island off Australia</td>\n",
              "    </tr>\n",
              "    <tr>\n",
              "      <th>4</th>\n",
              "      <td>4</td>\n",
              "      <td>RT @JPfaff1028: Even #BigPharma is admitting t...</td>\n",
              "      <td>2021-12-05 21:59:16</td>\n",
              "      <td>RosemarieMcNern</td>\n",
              "      <td>NaN</td>\n",
              "    </tr>\n",
              "    <tr>\n",
              "      <th>...</th>\n",
              "      <td>...</td>\n",
              "      <td>...</td>\n",
              "      <td>...</td>\n",
              "      <td>...</td>\n",
              "      <td>...</td>\n",
              "    </tr>\n",
              "    <tr>\n",
              "      <th>2345</th>\n",
              "      <td>2345</td>\n",
              "      <td>@RaceBannon1260 WILL GET THIS: DECEMBER 13, 20...</td>\n",
              "      <td>2021-11-27 10:33:04</td>\n",
              "      <td>ActivistBowen2</td>\n",
              "      <td>Hong Kong</td>\n",
              "    </tr>\n",
              "    <tr>\n",
              "      <th>2346</th>\n",
              "      <td>2346</td>\n",
              "      <td>Booster jab done thank you #nhs #boostershot</td>\n",
              "      <td>2021-11-27 09:56:52</td>\n",
              "      <td>Keefb5</td>\n",
              "      <td>NaN</td>\n",
              "    </tr>\n",
              "    <tr>\n",
              "      <th>2347</th>\n",
              "      <td>2347</td>\n",
              "      <td>👍🏼 No vaccine is 100% effective   unless every...</td>\n",
              "      <td>2021-11-27 09:51:42</td>\n",
              "      <td>aikeila</td>\n",
              "      <td>Paris</td>\n",
              "    </tr>\n",
              "    <tr>\n",
              "      <th>2348</th>\n",
              "      <td>2348</td>\n",
              "      <td>Can a virus mutate in a vaccinated person? Gen...</td>\n",
              "      <td>2021-11-27 09:39:25</td>\n",
              "      <td>phat_controller</td>\n",
              "      <td>Cornwall, UK</td>\n",
              "    </tr>\n",
              "    <tr>\n",
              "      <th>2349</th>\n",
              "      <td>2349</td>\n",
              "      <td>@Eusebius Sisonke trial booster shot ✅ #booste...</td>\n",
              "      <td>2021-11-27 09:19:54</td>\n",
              "      <td>FionaHoareau</td>\n",
              "      <td>NaN</td>\n",
              "    </tr>\n",
              "  </tbody>\n",
              "</table>\n",
              "<p>2350 rows × 5 columns</p>\n",
              "</div>"
            ],
            "text/plain": [
              "      Unnamed: 0  ...                     location\n",
              "0              0  ...             Napa, California\n",
              "1              1  ...                    Hong Kong\n",
              "2              2  ...                Massachusetts\n",
              "3              3  ...  Pretty island off Australia\n",
              "4              4  ...                          NaN\n",
              "...          ...  ...                          ...\n",
              "2345        2345  ...                    Hong Kong\n",
              "2346        2346  ...                          NaN\n",
              "2347        2347  ...                        Paris\n",
              "2348        2348  ...                 Cornwall, UK\n",
              "2349        2349  ...                          NaN\n",
              "\n",
              "[2350 rows x 5 columns]"
            ]
          },
          "metadata": {},
          "execution_count": 48
        }
      ],
      "source": [
        "import pandas as pd\n",
        "df = pd.read_csv(\"/content/tweets_covid19_boosterShot.csv\")\n",
        "df"
      ]
    },
    {
      "cell_type": "code",
      "source": [
        "import pandas as pd\n",
        "\n",
        "import re\n",
        "import emoji\n",
        "import nltk\n",
        "nltk.download('words')\n",
        "words = set(nltk.corpus.words.words())\n",
        "def cleaner(tweet):\n",
        "    tweet = re.sub(\"@[A-Za-z0-9]+\",\"\",tweet) #Remove @ sign\n",
        "    tweet = re.sub(r\"(?:\\@|http?\\://|https?\\://|www)\\S+\", \"\", tweet) #Remove http links\n",
        "    tweet = \" \".join(tweet.split())\n",
        "    tweet = ''.join(c for c in tweet if c not in emoji.UNICODE_EMOJI) #Remove Emojis\n",
        "    tweet = tweet.replace(\"#\", \"\").replace(\"_\", \" \") #Remove hashtag sign but keep the text\n",
        "    tweet = re.sub(\"@[A-Za-z0-9_]+\",\"\", tweet)# removing entire twitter handle\n",
        "    tweet = re.sub(\"#[A-Za-z0-9_]+\",\"\", tweet)#removing entire hashtags\n",
        "    tweet = \" \".join(w for w in nltk.wordpunct_tokenize(tweet) \\\n",
        "         if w.lower() in words or not w.isalpha())\n",
        "    return tweet\n",
        "df['Clean_Tweet'] = df['text'].map(lambda x: cleaner(x))\n",
        "df['Clean_Tweet'] = df['Clean_Tweet'].str.replace('\\d+', '')\n",
        "df.to_csv(\"clean.csv\")\n"
      ],
      "metadata": {
        "colab": {
          "base_uri": "https://localhost:8080/"
        },
        "id": "6tIMWNTJDaj0",
        "outputId": "79ef07d3-b23e-42f4-cd83-d0b306afe142"
      },
      "execution_count": 50,
      "outputs": [
        {
          "output_type": "stream",
          "name": "stdout",
          "text": [
            "[nltk_data] Downloading package words to /root/nltk_data...\n",
            "[nltk_data]   Package words is already up-to-date!\n"
          ]
        }
      ]
    },
    {
      "cell_type": "code",
      "source": [
        "pip install emoji"
      ],
      "metadata": {
        "colab": {
          "base_uri": "https://localhost:8080/"
        },
        "id": "Op7T3UwGD0uT",
        "outputId": "37d22afb-ed87-442b-c5e6-f82c35b5964b"
      },
      "execution_count": 5,
      "outputs": [
        {
          "output_type": "stream",
          "name": "stdout",
          "text": [
            "Collecting emoji\n",
            "  Downloading emoji-1.6.1.tar.gz (170 kB)\n",
            "\u001b[?25l\r\u001b[K     |██                              | 10 kB 34.9 MB/s eta 0:00:01\r\u001b[K     |███▉                            | 20 kB 24.5 MB/s eta 0:00:01\r\u001b[K     |█████▉                          | 30 kB 18.5 MB/s eta 0:00:01\r\u001b[K     |███████▊                        | 40 kB 16.1 MB/s eta 0:00:01\r\u001b[K     |█████████▋                      | 51 kB 7.4 MB/s eta 0:00:01\r\u001b[K     |███████████▋                    | 61 kB 8.6 MB/s eta 0:00:01\r\u001b[K     |█████████████▌                  | 71 kB 8.0 MB/s eta 0:00:01\r\u001b[K     |███████████████▍                | 81 kB 8.8 MB/s eta 0:00:01\r\u001b[K     |█████████████████▍              | 92 kB 9.6 MB/s eta 0:00:01\r\u001b[K     |███████████████████▎            | 102 kB 7.3 MB/s eta 0:00:01\r\u001b[K     |█████████████████████▏          | 112 kB 7.3 MB/s eta 0:00:01\r\u001b[K     |███████████████████████▏        | 122 kB 7.3 MB/s eta 0:00:01\r\u001b[K     |█████████████████████████       | 133 kB 7.3 MB/s eta 0:00:01\r\u001b[K     |███████████████████████████     | 143 kB 7.3 MB/s eta 0:00:01\r\u001b[K     |█████████████████████████████   | 153 kB 7.3 MB/s eta 0:00:01\r\u001b[K     |██████████████████████████████▉ | 163 kB 7.3 MB/s eta 0:00:01\r\u001b[K     |████████████████████████████████| 170 kB 7.3 MB/s \n",
            "\u001b[?25hBuilding wheels for collected packages: emoji\n",
            "  Building wheel for emoji (setup.py) ... \u001b[?25l\u001b[?25hdone\n",
            "  Created wheel for emoji: filename=emoji-1.6.1-py3-none-any.whl size=169314 sha256=720e3003eff389f48403e187850957d36d99ecda112c633c012067a747ee4b5a\n",
            "  Stored in directory: /root/.cache/pip/wheels/ea/5f/d3/03d313ddb3c2a1a427bb4690f1621eea60fe6f2a30cc95940f\n",
            "Successfully built emoji\n",
            "Installing collected packages: emoji\n",
            "Successfully installed emoji-1.6.1\n"
          ]
        }
      ]
    },
    {
      "cell_type": "code",
      "source": [
        "df"
      ],
      "metadata": {
        "colab": {
          "base_uri": "https://localhost:8080/",
          "height": 615
        },
        "id": "yYUQXlpFJS4a",
        "outputId": "08aaf289-59ef-44e6-916c-fd81d723cd14"
      },
      "execution_count": 53,
      "outputs": [
        {
          "output_type": "execute_result",
          "data": {
            "text/html": [
              "<div>\n",
              "<style scoped>\n",
              "    .dataframe tbody tr th:only-of-type {\n",
              "        vertical-align: middle;\n",
              "    }\n",
              "\n",
              "    .dataframe tbody tr th {\n",
              "        vertical-align: top;\n",
              "    }\n",
              "\n",
              "    .dataframe thead th {\n",
              "        text-align: right;\n",
              "    }\n",
              "</style>\n",
              "<table border=\"1\" class=\"dataframe\">\n",
              "  <thead>\n",
              "    <tr style=\"text-align: right;\">\n",
              "      <th></th>\n",
              "      <th>Unnamed: 0</th>\n",
              "      <th>text</th>\n",
              "      <th>date</th>\n",
              "      <th>user</th>\n",
              "      <th>location</th>\n",
              "      <th>Clean_Tweet</th>\n",
              "    </tr>\n",
              "  </thead>\n",
              "  <tbody>\n",
              "    <tr>\n",
              "      <th>0</th>\n",
              "      <td>0</td>\n",
              "      <td>NEW Dark Angels &amp;amp; Pretty Freaks #Podcast #...</td>\n",
              "      <td>2021-12-05 22:26:40</td>\n",
              "      <td>DAPFpodcast</td>\n",
              "      <td>Napa, California</td>\n",
              "      <td>NEW Dark &amp; ; Pretty  “ She Is Creepy ” Married...</td>\n",
              "    </tr>\n",
              "    <tr>\n",
              "      <th>1</th>\n",
              "      <td>1</td>\n",
              "      <td>@nancy_stanners hi CAROL, yea took a while to ...</td>\n",
              "      <td>2021-12-05 22:22:44</td>\n",
              "      <td>ActivistBowen2</td>\n",
              "      <td>Hong Kong</td>\n",
              "      <td>hi CAROL , yea took a while to get this appoin...</td>\n",
              "    </tr>\n",
              "    <tr>\n",
              "      <th>2</th>\n",
              "      <td>2</td>\n",
              "      <td>Is it a bad sign if your husband starts dancin...</td>\n",
              "      <td>2021-12-05 22:02:45</td>\n",
              "      <td>Emmie12750</td>\n",
              "      <td>Massachusetts</td>\n",
              "      <td>Is it a bad sign if your husband dancing to mu...</td>\n",
              "    </tr>\n",
              "    <tr>\n",
              "      <th>3</th>\n",
              "      <td>3</td>\n",
              "      <td>RT @DrEricDing: Norwegian 🇳🇴 Christmas #Omicro...</td>\n",
              "      <td>2021-12-05 22:02:12</td>\n",
              "      <td>PrinPeta</td>\n",
              "      <td>Pretty island off Australia</td>\n",
              "      <td>: 🇳🇴 Omicron party …. That work outbreak is no...</td>\n",
              "    </tr>\n",
              "    <tr>\n",
              "      <th>4</th>\n",
              "      <td>4</td>\n",
              "      <td>RT @JPfaff1028: Even #BigPharma is admitting t...</td>\n",
              "      <td>2021-12-05 21:59:16</td>\n",
              "      <td>RosemarieMcNern</td>\n",
              "      <td>NaN</td>\n",
              "      <td>: Even is these are useless against the new , ...</td>\n",
              "    </tr>\n",
              "    <tr>\n",
              "      <th>...</th>\n",
              "      <td>...</td>\n",
              "      <td>...</td>\n",
              "      <td>...</td>\n",
              "      <td>...</td>\n",
              "      <td>...</td>\n",
              "      <td>...</td>\n",
              "    </tr>\n",
              "    <tr>\n",
              "      <th>2345</th>\n",
              "      <td>2345</td>\n",
              "      <td>@RaceBannon1260 WILL GET THIS: DECEMBER 13, 20...</td>\n",
              "      <td>2021-11-27 10:33:04</td>\n",
              "      <td>ActivistBowen2</td>\n",
              "      <td>Hong Kong</td>\n",
              "      <td>WILL GET THIS :  ,  BOOSTER</td>\n",
              "    </tr>\n",
              "    <tr>\n",
              "      <th>2346</th>\n",
              "      <td>2346</td>\n",
              "      <td>Booster jab done thank you #nhs #boostershot</td>\n",
              "      <td>2021-11-27 09:56:52</td>\n",
              "      <td>Keefb5</td>\n",
              "      <td>NaN</td>\n",
              "      <td>Booster jab done thank you</td>\n",
              "    </tr>\n",
              "    <tr>\n",
              "      <th>2347</th>\n",
              "      <td>2347</td>\n",
              "      <td>👍🏼 No vaccine is 100% effective   unless every...</td>\n",
              "      <td>2021-11-27 09:51:42</td>\n",
              "      <td>aikeila</td>\n",
              "      <td>Paris</td>\n",
              "      <td>👍🏼 No vaccine is  % effective unless everyone ...</td>\n",
              "    </tr>\n",
              "    <tr>\n",
              "      <th>2348</th>\n",
              "      <td>2348</td>\n",
              "      <td>Can a virus mutate in a vaccinated person? Gen...</td>\n",
              "      <td>2021-11-27 09:39:25</td>\n",
              "      <td>phat_controller</td>\n",
              "      <td>Cornwall, UK</td>\n",
              "      <td>Can a virus mutate in a person ? Genuine quest...</td>\n",
              "    </tr>\n",
              "    <tr>\n",
              "      <th>2349</th>\n",
              "      <td>2349</td>\n",
              "      <td>@Eusebius Sisonke trial booster shot ✅ #booste...</td>\n",
              "      <td>2021-11-27 09:19:54</td>\n",
              "      <td>FionaHoareau</td>\n",
              "      <td>NaN</td>\n",
              "      <td>trial booster shot ✅ COVIDVaccine</td>\n",
              "    </tr>\n",
              "  </tbody>\n",
              "</table>\n",
              "<p>2350 rows × 6 columns</p>\n",
              "</div>"
            ],
            "text/plain": [
              "      Unnamed: 0  ...                                        Clean_Tweet\n",
              "0              0  ...  NEW Dark & ; Pretty  “ She Is Creepy ” Married...\n",
              "1              1  ...  hi CAROL , yea took a while to get this appoin...\n",
              "2              2  ...  Is it a bad sign if your husband dancing to mu...\n",
              "3              3  ...  : 🇳🇴 Omicron party …. That work outbreak is no...\n",
              "4              4  ...  : Even is these are useless against the new , ...\n",
              "...          ...  ...                                                ...\n",
              "2345        2345  ...                        WILL GET THIS :  ,  BOOSTER\n",
              "2346        2346  ...                         Booster jab done thank you\n",
              "2347        2347  ...  👍🏼 No vaccine is  % effective unless everyone ...\n",
              "2348        2348  ...  Can a virus mutate in a person ? Genuine quest...\n",
              "2349        2349  ...                  trial booster shot ✅ COVIDVaccine\n",
              "\n",
              "[2350 rows x 6 columns]"
            ]
          },
          "metadata": {},
          "execution_count": 53
        }
      ]
    },
    {
      "cell_type": "code",
      "source": [
        "df=df[['Clean_Tweet']]\n",
        "print(\"Shape of data=>\",df.shape)\n",
        "df.head(5)"
      ],
      "metadata": {
        "colab": {
          "base_uri": "https://localhost:8080/",
          "height": 224
        },
        "id": "ncgpo3O6Jm12",
        "outputId": "b8ec1496-1388-41f2-efd2-94698a9b01f1"
      },
      "execution_count": 54,
      "outputs": [
        {
          "output_type": "stream",
          "name": "stdout",
          "text": [
            "Shape of data=> (2350, 1)\n"
          ]
        },
        {
          "output_type": "execute_result",
          "data": {
            "text/html": [
              "<div>\n",
              "<style scoped>\n",
              "    .dataframe tbody tr th:only-of-type {\n",
              "        vertical-align: middle;\n",
              "    }\n",
              "\n",
              "    .dataframe tbody tr th {\n",
              "        vertical-align: top;\n",
              "    }\n",
              "\n",
              "    .dataframe thead th {\n",
              "        text-align: right;\n",
              "    }\n",
              "</style>\n",
              "<table border=\"1\" class=\"dataframe\">\n",
              "  <thead>\n",
              "    <tr style=\"text-align: right;\">\n",
              "      <th></th>\n",
              "      <th>Clean_Tweet</th>\n",
              "    </tr>\n",
              "  </thead>\n",
              "  <tbody>\n",
              "    <tr>\n",
              "      <th>0</th>\n",
              "      <td>NEW Dark &amp; ; Pretty  “ She Is Creepy ” Married...</td>\n",
              "    </tr>\n",
              "    <tr>\n",
              "      <th>1</th>\n",
              "      <td>hi CAROL , yea took a while to get this appoin...</td>\n",
              "    </tr>\n",
              "    <tr>\n",
              "      <th>2</th>\n",
              "      <td>Is it a bad sign if your husband dancing to mu...</td>\n",
              "    </tr>\n",
              "    <tr>\n",
              "      <th>3</th>\n",
              "      <td>: 🇳🇴 Omicron party …. That work outbreak is no...</td>\n",
              "    </tr>\n",
              "    <tr>\n",
              "      <th>4</th>\n",
              "      <td>: Even is these are useless against the new , ...</td>\n",
              "    </tr>\n",
              "  </tbody>\n",
              "</table>\n",
              "</div>"
            ],
            "text/plain": [
              "                                         Clean_Tweet\n",
              "0  NEW Dark & ; Pretty  “ She Is Creepy ” Married...\n",
              "1  hi CAROL , yea took a while to get this appoin...\n",
              "2  Is it a bad sign if your husband dancing to mu...\n",
              "3  : 🇳🇴 Omicron party …. That work outbreak is no...\n",
              "4  : Even is these are useless against the new , ..."
            ]
          },
          "metadata": {},
          "execution_count": 54
        }
      ]
    },
    {
      "cell_type": "code",
      "source": [
        "df.isnull().sum()"
      ],
      "metadata": {
        "colab": {
          "base_uri": "https://localhost:8080/"
        },
        "id": "rciQodP0JqlG",
        "outputId": "06a8bfa7-964c-44cd-9705-89f364151471"
      },
      "execution_count": 55,
      "outputs": [
        {
          "output_type": "execute_result",
          "data": {
            "text/plain": [
              "Clean_Tweet    0\n",
              "dtype: int64"
            ]
          },
          "metadata": {},
          "execution_count": 55
        }
      ]
    },
    {
      "cell_type": "code",
      "source": [
        "df.dropna(inplace=True)\n",
        "df.isnull().sum()"
      ],
      "metadata": {
        "colab": {
          "base_uri": "https://localhost:8080/"
        },
        "id": "YaT3i09QJtGY",
        "outputId": "bb20ce62-eda6-4a09-fb82-b320898108cd"
      },
      "execution_count": 56,
      "outputs": [
        {
          "output_type": "stream",
          "name": "stderr",
          "text": [
            "/usr/local/lib/python3.7/dist-packages/ipykernel_launcher.py:1: SettingWithCopyWarning: \n",
            "A value is trying to be set on a copy of a slice from a DataFrame\n",
            "\n",
            "See the caveats in the documentation: https://pandas.pydata.org/pandas-docs/stable/user_guide/indexing.html#returning-a-view-versus-a-copy\n",
            "  \"\"\"Entry point for launching an IPython kernel.\n"
          ]
        },
        {
          "output_type": "execute_result",
          "data": {
            "text/plain": [
              "Clean_Tweet    0\n",
              "dtype: int64"
            ]
          },
          "metadata": {},
          "execution_count": 56
        }
      ]
    },
    {
      "cell_type": "code",
      "source": [
        "df['cleaned']=df['Clean_Tweet'].apply(lambda x: x.lower())"
      ],
      "metadata": {
        "colab": {
          "base_uri": "https://localhost:8080/"
        },
        "id": "m3Yo7h0OJv18",
        "outputId": "7cd97a57-d90b-4c0f-9661-701e074adaf8"
      },
      "execution_count": 57,
      "outputs": [
        {
          "output_type": "stream",
          "name": "stderr",
          "text": [
            "/usr/local/lib/python3.7/dist-packages/ipykernel_launcher.py:1: SettingWithCopyWarning: \n",
            "A value is trying to be set on a copy of a slice from a DataFrame.\n",
            "Try using .loc[row_indexer,col_indexer] = value instead\n",
            "\n",
            "See the caveats in the documentation: https://pandas.pydata.org/pandas-docs/stable/user_guide/indexing.html#returning-a-view-versus-a-copy\n",
            "  \"\"\"Entry point for launching an IPython kernel.\n"
          ]
        }
      ]
    },
    {
      "cell_type": "code",
      "source": [
        "df['cleaned']=df['cleaned'].apply(lambda x: re.sub('\\w*\\d\\w*','', x))"
      ],
      "metadata": {
        "colab": {
          "base_uri": "https://localhost:8080/"
        },
        "id": "b0dA0hunJ0Bw",
        "outputId": "42725f0a-5c5f-4802-9bed-d80d855ad040"
      },
      "execution_count": 58,
      "outputs": [
        {
          "output_type": "stream",
          "name": "stderr",
          "text": [
            "/usr/local/lib/python3.7/dist-packages/ipykernel_launcher.py:1: SettingWithCopyWarning: \n",
            "A value is trying to be set on a copy of a slice from a DataFrame.\n",
            "Try using .loc[row_indexer,col_indexer] = value instead\n",
            "\n",
            "See the caveats in the documentation: https://pandas.pydata.org/pandas-docs/stable/user_guide/indexing.html#returning-a-view-versus-a-copy\n",
            "  \"\"\"Entry point for launching an IPython kernel.\n"
          ]
        }
      ]
    },
    {
      "cell_type": "code",
      "source": [
        "df['cleaned'] = df['cleaned'].str.replace('[^\\w\\s#@/:%.,_-]', '', flags=re.UNICODE)"
      ],
      "metadata": {
        "colab": {
          "base_uri": "https://localhost:8080/"
        },
        "id": "gpUCb-HFJ2kz",
        "outputId": "c3681756-7914-46b7-ed25-c6c947fa96ef"
      },
      "execution_count": 59,
      "outputs": [
        {
          "output_type": "stream",
          "name": "stderr",
          "text": [
            "/usr/local/lib/python3.7/dist-packages/ipykernel_launcher.py:1: SettingWithCopyWarning: \n",
            "A value is trying to be set on a copy of a slice from a DataFrame.\n",
            "Try using .loc[row_indexer,col_indexer] = value instead\n",
            "\n",
            "See the caveats in the documentation: https://pandas.pydata.org/pandas-docs/stable/user_guide/indexing.html#returning-a-view-versus-a-copy\n",
            "  \"\"\"Entry point for launching an IPython kernel.\n"
          ]
        }
      ]
    },
    {
      "cell_type": "code",
      "source": [
        "import string\n",
        "df['cleaned']=df['cleaned'].apply(lambda x: re.sub('[%s]' % re.escape(string.punctuation), '', x))"
      ],
      "metadata": {
        "colab": {
          "base_uri": "https://localhost:8080/"
        },
        "id": "eJueySv8J5Os",
        "outputId": "079e0fa2-3dda-40fc-9848-f6ca5b2d29d0"
      },
      "execution_count": 60,
      "outputs": [
        {
          "output_type": "stream",
          "name": "stderr",
          "text": [
            "/usr/local/lib/python3.7/dist-packages/ipykernel_launcher.py:2: SettingWithCopyWarning: \n",
            "A value is trying to be set on a copy of a slice from a DataFrame.\n",
            "Try using .loc[row_indexer,col_indexer] = value instead\n",
            "\n",
            "See the caveats in the documentation: https://pandas.pydata.org/pandas-docs/stable/user_guide/indexing.html#returning-a-view-versus-a-copy\n",
            "  \n"
          ]
        }
      ]
    },
    {
      "cell_type": "code",
      "source": [
        "df['cleaned']=df['cleaned'].apply(lambda x: re.sub(' +',' ',x))"
      ],
      "metadata": {
        "colab": {
          "base_uri": "https://localhost:8080/"
        },
        "id": "HQxbQ1jkJ94m",
        "outputId": "a7f90318-6a62-40ed-a8da-a382cc4b5a54"
      },
      "execution_count": 61,
      "outputs": [
        {
          "output_type": "stream",
          "name": "stderr",
          "text": [
            "/usr/local/lib/python3.7/dist-packages/ipykernel_launcher.py:1: SettingWithCopyWarning: \n",
            "A value is trying to be set on a copy of a slice from a DataFrame.\n",
            "Try using .loc[row_indexer,col_indexer] = value instead\n",
            "\n",
            "See the caveats in the documentation: https://pandas.pydata.org/pandas-docs/stable/user_guide/indexing.html#returning-a-view-versus-a-copy\n",
            "  \"\"\"Entry point for launching an IPython kernel.\n"
          ]
        }
      ]
    },
    {
      "cell_type": "code",
      "source": [
        "df"
      ],
      "metadata": {
        "colab": {
          "base_uri": "https://localhost:8080/",
          "height": 424
        },
        "id": "9Np1rb75KB8P",
        "outputId": "d94ded63-5323-4ef4-e989-e39c87b55ae8"
      },
      "execution_count": 62,
      "outputs": [
        {
          "output_type": "execute_result",
          "data": {
            "text/html": [
              "<div>\n",
              "<style scoped>\n",
              "    .dataframe tbody tr th:only-of-type {\n",
              "        vertical-align: middle;\n",
              "    }\n",
              "\n",
              "    .dataframe tbody tr th {\n",
              "        vertical-align: top;\n",
              "    }\n",
              "\n",
              "    .dataframe thead th {\n",
              "        text-align: right;\n",
              "    }\n",
              "</style>\n",
              "<table border=\"1\" class=\"dataframe\">\n",
              "  <thead>\n",
              "    <tr style=\"text-align: right;\">\n",
              "      <th></th>\n",
              "      <th>Clean_Tweet</th>\n",
              "      <th>cleaned</th>\n",
              "    </tr>\n",
              "  </thead>\n",
              "  <tbody>\n",
              "    <tr>\n",
              "      <th>0</th>\n",
              "      <td>NEW Dark &amp; ; Pretty  “ She Is Creepy ” Married...</td>\n",
              "      <td>new dark pretty she is creepy married chatting...</td>\n",
              "    </tr>\n",
              "    <tr>\n",
              "      <th>1</th>\n",
              "      <td>hi CAROL , yea took a while to get this appoin...</td>\n",
              "      <td>hi carol yea took a while to get this appointm...</td>\n",
              "    </tr>\n",
              "    <tr>\n",
              "      <th>2</th>\n",
              "      <td>Is it a bad sign if your husband dancing to mu...</td>\n",
              "      <td>is it a bad sign if your husband dancing to mu...</td>\n",
              "    </tr>\n",
              "    <tr>\n",
              "      <th>3</th>\n",
              "      <td>: 🇳🇴 Omicron party …. That work outbreak is no...</td>\n",
              "      <td>omicron party that work outbreak is now up to...</td>\n",
              "    </tr>\n",
              "    <tr>\n",
              "      <th>4</th>\n",
              "      <td>: Even is these are useless against the new , ...</td>\n",
              "      <td>even is these are useless against the new yet...</td>\n",
              "    </tr>\n",
              "    <tr>\n",
              "      <th>...</th>\n",
              "      <td>...</td>\n",
              "      <td>...</td>\n",
              "    </tr>\n",
              "    <tr>\n",
              "      <th>2345</th>\n",
              "      <td>WILL GET THIS :  ,  BOOSTER</td>\n",
              "      <td>will get this booster</td>\n",
              "    </tr>\n",
              "    <tr>\n",
              "      <th>2346</th>\n",
              "      <td>Booster jab done thank you</td>\n",
              "      <td>booster jab done thank you</td>\n",
              "    </tr>\n",
              "    <tr>\n",
              "      <th>2347</th>\n",
              "      <td>👍🏼 No vaccine is  % effective unless everyone ...</td>\n",
              "      <td>no vaccine is effective unless everyone is</td>\n",
              "    </tr>\n",
              "    <tr>\n",
              "      <th>2348</th>\n",
              "      <td>Can a virus mutate in a person ? Genuine quest...</td>\n",
              "      <td>can a virus mutate in a person genuine questio...</td>\n",
              "    </tr>\n",
              "    <tr>\n",
              "      <th>2349</th>\n",
              "      <td>trial booster shot ✅ COVIDVaccine</td>\n",
              "      <td>trial booster shot covidvaccine</td>\n",
              "    </tr>\n",
              "  </tbody>\n",
              "</table>\n",
              "<p>2350 rows × 2 columns</p>\n",
              "</div>"
            ],
            "text/plain": [
              "                                            Clean_Tweet                                            cleaned\n",
              "0     NEW Dark & ; Pretty  “ She Is Creepy ” Married...  new dark pretty she is creepy married chatting...\n",
              "1     hi CAROL , yea took a while to get this appoin...  hi carol yea took a while to get this appointm...\n",
              "2     Is it a bad sign if your husband dancing to mu...  is it a bad sign if your husband dancing to mu...\n",
              "3     : 🇳🇴 Omicron party …. That work outbreak is no...   omicron party that work outbreak is now up to...\n",
              "4     : Even is these are useless against the new , ...   even is these are useless against the new yet...\n",
              "...                                                 ...                                                ...\n",
              "2345                        WILL GET THIS :  ,  BOOSTER                              will get this booster\n",
              "2346                         Booster jab done thank you                         booster jab done thank you\n",
              "2347  👍🏼 No vaccine is  % effective unless everyone ...        no vaccine is effective unless everyone is \n",
              "2348  Can a virus mutate in a person ? Genuine quest...  can a virus mutate in a person genuine questio...\n",
              "2349                  trial booster shot ✅ COVIDVaccine                    trial booster shot covidvaccine\n",
              "\n",
              "[2350 rows x 2 columns]"
            ]
          },
          "metadata": {},
          "execution_count": 62
        }
      ]
    },
    {
      "cell_type": "code",
      "source": [
        "\n",
        "for index,cleaned in enumerate(df['cleaned'][35:40]):\n",
        "  print('Tweet %d:\\n'%(index+1),cleaned)"
      ],
      "metadata": {
        "colab": {
          "base_uri": "https://localhost:8080/"
        },
        "id": "peuuY9p_KDDO",
        "outputId": "1ef9f544-a7dc-4027-e5ed-3e26354f1bfa"
      },
      "execution_count": 63,
      "outputs": [
        {
          "output_type": "stream",
          "name": "stdout",
          "text": [
            "Tweet 1:\n",
            "  omicron party that work outbreak is now up to out of testing covid \n",
            "Tweet 2:\n",
            " omicron may not have anyone yet but do people realize just how a few of them were for a day or so \n",
            "Tweet 3:\n",
            "  omicron party that work outbreak is now up to out of testing covid \n",
            "Tweet 4:\n",
            "  omicron party that work outbreak is now up to out of testing covid \n",
            "Tweet 5:\n",
            " everyone who now the booster shot should get a free lolly pop booster\n"
          ]
        }
      ]
    },
    {
      "cell_type": "code",
      "source": [
        "from nltk.stem import PorterStemmer\n",
        "st = PorterStemmer()\n",
        "df['cleaned'] = df['cleaned'].apply(lambda x: \" \".join([st.stem(word) for word in x.split()]))"
      ],
      "metadata": {
        "colab": {
          "base_uri": "https://localhost:8080/"
        },
        "id": "hEM8kqYeKKQu",
        "outputId": "79f5230f-2199-442b-fa58-bd81e74ee14a"
      },
      "execution_count": 65,
      "outputs": [
        {
          "output_type": "stream",
          "name": "stderr",
          "text": [
            "/usr/local/lib/python3.7/dist-packages/ipykernel_launcher.py:3: SettingWithCopyWarning: \n",
            "A value is trying to be set on a copy of a slice from a DataFrame.\n",
            "Try using .loc[row_indexer,col_indexer] = value instead\n",
            "\n",
            "See the caveats in the documentation: https://pandas.pydata.org/pandas-docs/stable/user_guide/indexing.html#returning-a-view-versus-a-copy\n",
            "  This is separate from the ipykernel package so we can avoid doing imports until\n"
          ]
        }
      ]
    },
    {
      "cell_type": "code",
      "source": [
        "import nltk\n",
        "nltk.download('wordnet')"
      ],
      "metadata": {
        "colab": {
          "base_uri": "https://localhost:8080/"
        },
        "id": "4_V1eM6TKM7V",
        "outputId": "d434a6d1-f2a0-40c2-bd04-cf86a75360d4"
      },
      "execution_count": 66,
      "outputs": [
        {
          "output_type": "stream",
          "name": "stdout",
          "text": [
            "[nltk_data] Downloading package wordnet to /root/nltk_data...\n",
            "[nltk_data]   Package wordnet is already up-to-date!\n"
          ]
        },
        {
          "output_type": "execute_result",
          "data": {
            "text/plain": [
              "True"
            ]
          },
          "metadata": {},
          "execution_count": 66
        }
      ]
    },
    {
      "cell_type": "code",
      "source": [
        "df['cleaned'] = df['cleaned'].apply(lambda x: \" \".join([Word(word).lemmatize() for word in x.split()]))\n",
        "df['cleaned'].head()"
      ],
      "metadata": {
        "colab": {
          "base_uri": "https://localhost:8080/"
        },
        "id": "-mX1UoRHKPnY",
        "outputId": "8c9c7f90-088b-4618-dcb3-96a52ae45465"
      },
      "execution_count": 67,
      "outputs": [
        {
          "output_type": "stream",
          "name": "stderr",
          "text": [
            "/usr/local/lib/python3.7/dist-packages/ipykernel_launcher.py:1: SettingWithCopyWarning: \n",
            "A value is trying to be set on a copy of a slice from a DataFrame.\n",
            "Try using .loc[row_indexer,col_indexer] = value instead\n",
            "\n",
            "See the caveats in the documentation: https://pandas.pydata.org/pandas-docs/stable/user_guide/indexing.html#returning-a-view-versus-a-copy\n",
            "  \"\"\"Entry point for launching an IPython kernel.\n"
          ]
        },
        {
          "output_type": "execute_result",
          "data": {
            "text/plain": [
              "0    new dark pretti she is creepi marri chat about...\n",
              "1    hi carol yea took a while to get thi appoint y...\n",
              "2    is it a bad sign if your husband danc to music...\n",
              "3    omicron parti that work outbreak is now up to ...\n",
              "4    even is these are useless against the new yet ...\n",
              "Name: cleaned, dtype: object"
            ]
          },
          "metadata": {},
          "execution_count": 67
        }
      ]
    },
    {
      "cell_type": "code",
      "source": [
        "df['cleaned'] = df['cleaned'].str.replace('[^\\w\\s]', '')\n",
        "df['cleaned'].head()"
      ],
      "metadata": {
        "colab": {
          "base_uri": "https://localhost:8080/"
        },
        "id": "uBWQZnVcKR5U",
        "outputId": "0876a3fe-fdd9-416a-a605-80c6101fde85"
      },
      "execution_count": 68,
      "outputs": [
        {
          "output_type": "stream",
          "name": "stderr",
          "text": [
            "/usr/local/lib/python3.7/dist-packages/ipykernel_launcher.py:1: SettingWithCopyWarning: \n",
            "A value is trying to be set on a copy of a slice from a DataFrame.\n",
            "Try using .loc[row_indexer,col_indexer] = value instead\n",
            "\n",
            "See the caveats in the documentation: https://pandas.pydata.org/pandas-docs/stable/user_guide/indexing.html#returning-a-view-versus-a-copy\n",
            "  \"\"\"Entry point for launching an IPython kernel.\n"
          ]
        },
        {
          "output_type": "execute_result",
          "data": {
            "text/plain": [
              "0    new dark pretti she is creepi marri chat about...\n",
              "1    hi carol yea took a while to get thi appoint y...\n",
              "2    is it a bad sign if your husband danc to music...\n",
              "3    omicron parti that work outbreak is now up to ...\n",
              "4    even is these are useless against the new yet ...\n",
              "Name: cleaned, dtype: object"
            ]
          },
          "metadata": {},
          "execution_count": 68
        }
      ]
    },
    {
      "cell_type": "code",
      "source": [
        "df['tweet_len'] = df['cleaned'].astype(str).apply(len)\n",
        "df['word_count'] = df['cleaned'].apply(lambda x: len(str(x).split()))"
      ],
      "metadata": {
        "colab": {
          "base_uri": "https://localhost:8080/"
        },
        "id": "U_vVkXLeKVBn",
        "outputId": "3695494b-7709-4aa5-dca3-f7e19e5214b8"
      },
      "execution_count": 69,
      "outputs": [
        {
          "output_type": "stream",
          "name": "stderr",
          "text": [
            "/usr/local/lib/python3.7/dist-packages/ipykernel_launcher.py:1: SettingWithCopyWarning: \n",
            "A value is trying to be set on a copy of a slice from a DataFrame.\n",
            "Try using .loc[row_indexer,col_indexer] = value instead\n",
            "\n",
            "See the caveats in the documentation: https://pandas.pydata.org/pandas-docs/stable/user_guide/indexing.html#returning-a-view-versus-a-copy\n",
            "  \"\"\"Entry point for launching an IPython kernel.\n",
            "/usr/local/lib/python3.7/dist-packages/ipykernel_launcher.py:2: SettingWithCopyWarning: \n",
            "A value is trying to be set on a copy of a slice from a DataFrame.\n",
            "Try using .loc[row_indexer,col_indexer] = value instead\n",
            "\n",
            "See the caveats in the documentation: https://pandas.pydata.org/pandas-docs/stable/user_guide/indexing.html#returning-a-view-versus-a-copy\n",
            "  \n"
          ]
        }
      ]
    },
    {
      "cell_type": "code",
      "source": [
        "import nltk\n",
        "nltk.download('stopwords')\n",
        "from nltk.corpus import stopwords\n",
        "stopwords = nltk.corpus.stopwords.words('english')\n",
        "newStopWords = ['thi','new','get','like','give', 'go','make','one','whi','hi','use','need','wa','plea','see','got','look','hey','ani','say','tri','still','come']\n",
        "stopwords.extend(newStopWords)\n",
        "df['cleaned'] = df['cleaned'].apply(lambda x: \" \".join(x for x in x.split() if x not in stopwords))\n",
        "df['cleaned'].head()"
      ],
      "metadata": {
        "colab": {
          "base_uri": "https://localhost:8080/"
        },
        "id": "wWla2qeXKX4v",
        "outputId": "45dd084d-ca54-48e9-e307-b0db8d73fe37"
      },
      "execution_count": 70,
      "outputs": [
        {
          "output_type": "stream",
          "name": "stdout",
          "text": [
            "[nltk_data] Downloading package stopwords to /root/nltk_data...\n",
            "[nltk_data]   Package stopwords is already up-to-date!\n"
          ]
        },
        {
          "output_type": "stream",
          "name": "stderr",
          "text": [
            "/usr/local/lib/python3.7/dist-packages/ipykernel_launcher.py:7: SettingWithCopyWarning: \n",
            "A value is trying to be set on a copy of a slice from a DataFrame.\n",
            "Try using .loc[row_indexer,col_indexer] = value instead\n",
            "\n",
            "See the caveats in the documentation: https://pandas.pydata.org/pandas-docs/stable/user_guide/indexing.html#returning-a-view-versus-a-copy\n",
            "  import sys\n"
          ]
        },
        {
          "output_type": "execute_result",
          "data": {
            "text/plain": [
              "0    dark pretti creepi marri chat life unedit\n",
              "1             carol yea took appoint know send\n",
              "2                  bad sign husband danc music\n",
              "3       omicron parti work outbreak test covid\n",
              "4           even useless yet onli solut mandat\n",
              "Name: cleaned, dtype: object"
            ]
          },
          "metadata": {},
          "execution_count": 70
        }
      ]
    },
    {
      "cell_type": "code",
      "source": [
        "from textblob import TextBlob, Word\n",
        "df['polarity'] = df['cleaned'].map(lambda text: TextBlob(text).sentiment.polarity)\n",
        "df.head()"
      ],
      "metadata": {
        "colab": {
          "base_uri": "https://localhost:8080/",
          "height": 330
        },
        "id": "v9z6drgkKa4b",
        "outputId": "286df912-ef37-428f-ea81-19d85f2a5402"
      },
      "execution_count": 71,
      "outputs": [
        {
          "output_type": "stream",
          "name": "stderr",
          "text": [
            "/usr/local/lib/python3.7/dist-packages/ipykernel_launcher.py:2: SettingWithCopyWarning: \n",
            "A value is trying to be set on a copy of a slice from a DataFrame.\n",
            "Try using .loc[row_indexer,col_indexer] = value instead\n",
            "\n",
            "See the caveats in the documentation: https://pandas.pydata.org/pandas-docs/stable/user_guide/indexing.html#returning-a-view-versus-a-copy\n",
            "  \n"
          ]
        },
        {
          "output_type": "execute_result",
          "data": {
            "text/html": [
              "<div>\n",
              "<style scoped>\n",
              "    .dataframe tbody tr th:only-of-type {\n",
              "        vertical-align: middle;\n",
              "    }\n",
              "\n",
              "    .dataframe tbody tr th {\n",
              "        vertical-align: top;\n",
              "    }\n",
              "\n",
              "    .dataframe thead th {\n",
              "        text-align: right;\n",
              "    }\n",
              "</style>\n",
              "<table border=\"1\" class=\"dataframe\">\n",
              "  <thead>\n",
              "    <tr style=\"text-align: right;\">\n",
              "      <th></th>\n",
              "      <th>Clean_Tweet</th>\n",
              "      <th>cleaned</th>\n",
              "      <th>tweet_len</th>\n",
              "      <th>word_count</th>\n",
              "      <th>polarity</th>\n",
              "    </tr>\n",
              "  </thead>\n",
              "  <tbody>\n",
              "    <tr>\n",
              "      <th>0</th>\n",
              "      <td>NEW Dark &amp; ; Pretty  “ She Is Creepy ” Married...</td>\n",
              "      <td>dark pretti creepi marri chat life unedit</td>\n",
              "      <td>58</td>\n",
              "      <td>11</td>\n",
              "      <td>-0.15</td>\n",
              "    </tr>\n",
              "    <tr>\n",
              "      <th>1</th>\n",
              "      <td>hi CAROL , yea took a while to get this appoin...</td>\n",
              "      <td>carol yea took appoint know send</td>\n",
              "      <td>73</td>\n",
              "      <td>17</td>\n",
              "      <td>0.00</td>\n",
              "    </tr>\n",
              "    <tr>\n",
              "      <th>2</th>\n",
              "      <td>Is it a bad sign if your husband dancing to mu...</td>\n",
              "      <td>bad sign husband danc music</td>\n",
              "      <td>58</td>\n",
              "      <td>14</td>\n",
              "      <td>-0.70</td>\n",
              "    </tr>\n",
              "    <tr>\n",
              "      <th>3</th>\n",
              "      <td>: 🇳🇴 Omicron party …. That work outbreak is no...</td>\n",
              "      <td>omicron parti work outbreak test covid</td>\n",
              "      <td>63</td>\n",
              "      <td>13</td>\n",
              "      <td>0.00</td>\n",
              "    </tr>\n",
              "    <tr>\n",
              "      <th>4</th>\n",
              "      <td>: Even is these are useless against the new , ...</td>\n",
              "      <td>even useless yet onli solut mandat</td>\n",
              "      <td>76</td>\n",
              "      <td>16</td>\n",
              "      <td>-0.50</td>\n",
              "    </tr>\n",
              "  </tbody>\n",
              "</table>\n",
              "</div>"
            ],
            "text/plain": [
              "                                         Clean_Tweet  ... polarity\n",
              "0  NEW Dark & ; Pretty  “ She Is Creepy ” Married...  ...    -0.15\n",
              "1  hi CAROL , yea took a while to get this appoin...  ...     0.00\n",
              "2  Is it a bad sign if your husband dancing to mu...  ...    -0.70\n",
              "3  : 🇳🇴 Omicron party …. That work outbreak is no...  ...     0.00\n",
              "4  : Even is these are useless against the new , ...  ...    -0.50\n",
              "\n",
              "[5 rows x 5 columns]"
            ]
          },
          "metadata": {},
          "execution_count": 71
        }
      ]
    },
    {
      "cell_type": "code",
      "source": [
        "cleantext = \" \".join(cleaned for cleaned in df.cleaned)"
      ],
      "metadata": {
        "id": "O7XcGfl8Kdey"
      },
      "execution_count": 72,
      "outputs": []
    },
    {
      "cell_type": "code",
      "source": [
        "import matplotlib.pyplot as plt\n",
        "\n",
        "from wordcloud import WordCloud, STOPWORDS, ImageColorGenerator\n",
        "stopwords = set(STOPWORDS)\n",
        "stopwords = stopwords.union([\"ha\", \"thi\", \"now\", \"onli\", \"im\", \"becaus\", \"wa\", \"will\", \"even\", \"go\", \"realli\", \"didnt\", \"abl\"])\n",
        "wordcl = WordCloud(stopwords = stopwords, background_color='white', max_font_size = 50, max_words = 5000).generate(cleantext)\n",
        "plt.figure(figsize=(14, 12))\n",
        "plt.imshow(wordcl, interpolation='bilinear')\n",
        "plt.axis('off')\n",
        "plt.show()"
      ],
      "metadata": {
        "colab": {
          "base_uri": "https://localhost:8080/",
          "height": 422
        },
        "id": "WnDdT6PsKh4s",
        "outputId": "251c90c0-1789-403b-965c-eaa663460a59"
      },
      "execution_count": 75,
      "outputs": [
        {
          "output_type": "display_data",
          "data": {
            "image/png": "[encoded data removed]",
            "text/plain": [
              "<Figure size 1008x864 with 1 Axes>"
            ]
          },
          "metadata": {
            "needs_background": "light"
          }
        }
      ]
    },
    {
      "cell_type": "code",
      "source": [
        "from sklearn.feature_extraction.text import CountVectorizer\n",
        "def get_top_n_words(corpus, n=None):\n",
        "    vec=CountVectorizer().fit(corpus)\n",
        "    bag_of_words = vec.transform(corpus)\n",
        "    sum_words = bag_of_words.sum(axis=0)\n",
        "    words_freq = [(word, sum_words[0, idx]) for word, idx in vec.vocabulary_.items()]\n",
        "    words_freq =sorted(words_freq, key = lambda x: x[1], reverse=True)\n",
        "    return words_freq[:n]\n",
        "common_words = get_top_n_words(df['cleaned'], 20)\n",
        "df1 = pd.DataFrame(common_words, columns = ['cleaned', 'count'])\n",
        "df1"
      ],
      "metadata": {
        "colab": {
          "base_uri": "https://localhost:8080/",
          "height": 677
        },
        "id": "T3Y8ZNc-KzEX",
        "outputId": "caf8cb93-4aeb-4efd-c5ff-5d8f52030807"
      },
      "execution_count": 76,
      "outputs": [
        {
          "output_type": "execute_result",
          "data": {
            "text/html": [
              "<div>\n",
              "<style scoped>\n",
              "    .dataframe tbody tr th:only-of-type {\n",
              "        vertical-align: middle;\n",
              "    }\n",
              "\n",
              "    .dataframe tbody tr th {\n",
              "        vertical-align: top;\n",
              "    }\n",
              "\n",
              "    .dataframe thead th {\n",
              "        text-align: right;\n",
              "    }\n",
              "</style>\n",
              "<table border=\"1\" class=\"dataframe\">\n",
              "  <thead>\n",
              "    <tr style=\"text-align: right;\">\n",
              "      <th></th>\n",
              "      <th>cleaned</th>\n",
              "      <th>count</th>\n",
              "    </tr>\n",
              "  </thead>\n",
              "  <tbody>\n",
              "    <tr>\n",
              "      <th>0</th>\n",
              "      <td>covid</td>\n",
              "      <td>954</td>\n",
              "    </tr>\n",
              "    <tr>\n",
              "      <th>1</th>\n",
              "      <td>omicron</td>\n",
              "      <td>718</td>\n",
              "    </tr>\n",
              "    <tr>\n",
              "      <th>2</th>\n",
              "      <td>work</td>\n",
              "      <td>612</td>\n",
              "    </tr>\n",
              "    <tr>\n",
              "      <th>3</th>\n",
              "      <td>test</td>\n",
              "      <td>582</td>\n",
              "    </tr>\n",
              "    <tr>\n",
              "      <th>4</th>\n",
              "      <td>outbreak</td>\n",
              "      <td>571</td>\n",
              "    </tr>\n",
              "    <tr>\n",
              "      <th>5</th>\n",
              "      <td>parti</td>\n",
              "      <td>570</td>\n",
              "    </tr>\n",
              "    <tr>\n",
              "      <th>6</th>\n",
              "      <td>booster</td>\n",
              "      <td>411</td>\n",
              "    </tr>\n",
              "    <tr>\n",
              "      <th>7</th>\n",
              "      <td>million</td>\n",
              "      <td>396</td>\n",
              "    </tr>\n",
              "    <tr>\n",
              "      <th>8</th>\n",
              "      <td>vaccin</td>\n",
              "      <td>223</td>\n",
              "    </tr>\n",
              "    <tr>\n",
              "      <th>9</th>\n",
              "      <td>shot</td>\n",
              "      <td>211</td>\n",
              "    </tr>\n",
              "    <tr>\n",
              "      <th>10</th>\n",
              "      <td>third</td>\n",
              "      <td>202</td>\n",
              "    </tr>\n",
              "    <tr>\n",
              "      <th>11</th>\n",
              "      <td>readi</td>\n",
              "      <td>184</td>\n",
              "    </tr>\n",
              "    <tr>\n",
              "      <th>12</th>\n",
              "      <td>thank</td>\n",
              "      <td>136</td>\n",
              "    </tr>\n",
              "    <tr>\n",
              "      <th>13</th>\n",
              "      <td>everyon</td>\n",
              "      <td>128</td>\n",
              "    </tr>\n",
              "    <tr>\n",
              "      <th>14</th>\n",
              "      <td>right</td>\n",
              "      <td>123</td>\n",
              "    </tr>\n",
              "    <tr>\n",
              "      <th>15</th>\n",
              "      <td>pretti</td>\n",
              "      <td>116</td>\n",
              "    </tr>\n",
              "    <tr>\n",
              "      <th>16</th>\n",
              "      <td>dark</td>\n",
              "      <td>112</td>\n",
              "    </tr>\n",
              "    <tr>\n",
              "      <th>17</th>\n",
              "      <td>marri</td>\n",
              "      <td>111</td>\n",
              "    </tr>\n",
              "    <tr>\n",
              "      <th>18</th>\n",
              "      <td>naili</td>\n",
              "      <td>110</td>\n",
              "    </tr>\n",
              "    <tr>\n",
              "      <th>19</th>\n",
              "      <td>everi</td>\n",
              "      <td>108</td>\n",
              "    </tr>\n",
              "  </tbody>\n",
              "</table>\n",
              "</div>"
            ],
            "text/plain": [
              "     cleaned  count\n",
              "0      covid    954\n",
              "1    omicron    718\n",
              "2       work    612\n",
              "3       test    582\n",
              "4   outbreak    571\n",
              "5      parti    570\n",
              "6    booster    411\n",
              "7    million    396\n",
              "8     vaccin    223\n",
              "9       shot    211\n",
              "10     third    202\n",
              "11     readi    184\n",
              "12     thank    136\n",
              "13   everyon    128\n",
              "14     right    123\n",
              "15    pretti    116\n",
              "16      dark    112\n",
              "17     marri    111\n",
              "18     naili    110\n",
              "19     everi    108"
            ]
          },
          "metadata": {},
          "execution_count": 76
        }
      ]
    },
    {
      "cell_type": "code",
      "source": [
        "def get_top_n_bigram(corpus, n=None):\n",
        "    vec = CountVectorizer(ngram_range=(2,2)).fit(corpus)\n",
        "    bag_of_words = vec.transform(corpus)\n",
        "    sum_words = bag_of_words.sum(axis=0)\n",
        "    words_freq = [(word, sum_words[0, idx]) for word, idx in vec.vocabulary_.items()]\n",
        "    words_freq =sorted(words_freq, key = lambda x: x[1], reverse=True)\n",
        "    return words_freq[:n]\n",
        "common_words2 = get_top_n_bigram(df['cleaned'], 30)\n",
        "df2 = pd.DataFrame(common_words2, columns=['cleaned', \"Count\"])\n",
        "df2.head()"
      ],
      "metadata": {
        "colab": {
          "base_uri": "https://localhost:8080/",
          "height": 206
        },
        "id": "JGa9PmiSK9mz",
        "outputId": "e7ef61cd-d46c-45cd-f064-7f887bf33852"
      },
      "execution_count": 77,
      "outputs": [
        {
          "output_type": "execute_result",
          "data": {
            "text/html": [
              "<div>\n",
              "<style scoped>\n",
              "    .dataframe tbody tr th:only-of-type {\n",
              "        vertical-align: middle;\n",
              "    }\n",
              "\n",
              "    .dataframe tbody tr th {\n",
              "        vertical-align: top;\n",
              "    }\n",
              "\n",
              "    .dataframe thead th {\n",
              "        text-align: right;\n",
              "    }\n",
              "</style>\n",
              "<table border=\"1\" class=\"dataframe\">\n",
              "  <thead>\n",
              "    <tr style=\"text-align: right;\">\n",
              "      <th></th>\n",
              "      <th>cleaned</th>\n",
              "      <th>Count</th>\n",
              "    </tr>\n",
              "  </thead>\n",
              "  <tbody>\n",
              "    <tr>\n",
              "      <th>0</th>\n",
              "      <td>work outbreak</td>\n",
              "      <td>571</td>\n",
              "    </tr>\n",
              "    <tr>\n",
              "      <th>1</th>\n",
              "      <td>outbreak test</td>\n",
              "      <td>571</td>\n",
              "    </tr>\n",
              "    <tr>\n",
              "      <th>2</th>\n",
              "      <td>omicron parti</td>\n",
              "      <td>570</td>\n",
              "    </tr>\n",
              "    <tr>\n",
              "      <th>3</th>\n",
              "      <td>parti work</td>\n",
              "      <td>570</td>\n",
              "    </tr>\n",
              "    <tr>\n",
              "      <th>4</th>\n",
              "      <td>test covid</td>\n",
              "      <td>570</td>\n",
              "    </tr>\n",
              "  </tbody>\n",
              "</table>\n",
              "</div>"
            ],
            "text/plain": [
              "         cleaned  Count\n",
              "0  work outbreak    571\n",
              "1  outbreak test    571\n",
              "2  omicron parti    570\n",
              "3     parti work    570\n",
              "4     test covid    570"
            ]
          },
          "metadata": {},
          "execution_count": 77
        }
      ]
    },
    {
      "cell_type": "code",
      "source": [
        "def get_top_n_trigram(corpus, n=None):\n",
        "    vec = CountVectorizer(ngram_range=(3, 3), stop_words='english').fit(corpus)\n",
        "    bag_of_words = vec.transform(corpus)\n",
        "    sum_words = bag_of_words.sum(axis=0)\n",
        "    words_freq = [(word, sum_words[0, idx]) for word, idx in vec.vocabulary_.items()]\n",
        "    words_freq =sorted(words_freq, key = lambda x: x[1], reverse=True)\n",
        "    return words_freq[:n]\n",
        "common_words3 = get_top_n_trigram(df['cleaned'], 30)\n",
        "df3 = pd.DataFrame(common_words3, columns = ['cleaned' , 'Count'])\n",
        "df3"
      ],
      "metadata": {
        "colab": {
          "base_uri": "https://localhost:8080/",
          "height": 990
        },
        "id": "V7D7JrVlLBQb",
        "outputId": "a79ebe32-4eb9-4da2-d547-e63aac61ab26"
      },
      "execution_count": 78,
      "outputs": [
        {
          "output_type": "execute_result",
          "data": {
            "text/html": [
              "<div>\n",
              "<style scoped>\n",
              "    .dataframe tbody tr th:only-of-type {\n",
              "        vertical-align: middle;\n",
              "    }\n",
              "\n",
              "    .dataframe tbody tr th {\n",
              "        vertical-align: top;\n",
              "    }\n",
              "\n",
              "    .dataframe thead th {\n",
              "        text-align: right;\n",
              "    }\n",
              "</style>\n",
              "<table border=\"1\" class=\"dataframe\">\n",
              "  <thead>\n",
              "    <tr style=\"text-align: right;\">\n",
              "      <th></th>\n",
              "      <th>cleaned</th>\n",
              "      <th>Count</th>\n",
              "    </tr>\n",
              "  </thead>\n",
              "  <tbody>\n",
              "    <tr>\n",
              "      <th>0</th>\n",
              "      <td>work outbreak test</td>\n",
              "      <td>571</td>\n",
              "    </tr>\n",
              "    <tr>\n",
              "      <th>1</th>\n",
              "      <td>omicron parti work</td>\n",
              "      <td>570</td>\n",
              "    </tr>\n",
              "    <tr>\n",
              "      <th>2</th>\n",
              "      <td>parti work outbreak</td>\n",
              "      <td>570</td>\n",
              "    </tr>\n",
              "    <tr>\n",
              "      <th>3</th>\n",
              "      <td>outbreak test covid</td>\n",
              "      <td>570</td>\n",
              "    </tr>\n",
              "    <tr>\n",
              "      <th>4</th>\n",
              "      <td>million million readi</td>\n",
              "      <td>177</td>\n",
              "    </tr>\n",
              "    <tr>\n",
              "      <th>5</th>\n",
              "      <td>dark pretti naili</td>\n",
              "      <td>110</td>\n",
              "    </tr>\n",
              "    <tr>\n",
              "      <th>6</th>\n",
              "      <td>pretti naili marri</td>\n",
              "      <td>110</td>\n",
              "    </tr>\n",
              "    <tr>\n",
              "      <th>7</th>\n",
              "      <td>life unedit thank</td>\n",
              "      <td>100</td>\n",
              "    </tr>\n",
              "    <tr>\n",
              "      <th>8</th>\n",
              "      <td>unedit thank everyon</td>\n",
              "      <td>100</td>\n",
              "    </tr>\n",
              "    <tr>\n",
              "      <th>9</th>\n",
              "      <td>marri chat life</td>\n",
              "      <td>99</td>\n",
              "    </tr>\n",
              "    <tr>\n",
              "      <th>10</th>\n",
              "      <td>chat life unedit</td>\n",
              "      <td>99</td>\n",
              "    </tr>\n",
              "    <tr>\n",
              "      <th>11</th>\n",
              "      <td>naili marri chat</td>\n",
              "      <td>98</td>\n",
              "    </tr>\n",
              "    <tr>\n",
              "      <th>12</th>\n",
              "      <td>realli final right</td>\n",
              "      <td>84</td>\n",
              "    </tr>\n",
              "    <tr>\n",
              "      <th>13</th>\n",
              "      <td>final right thing</td>\n",
              "      <td>84</td>\n",
              "    </tr>\n",
              "    <tr>\n",
              "      <th>14</th>\n",
              "      <td>right thing everi</td>\n",
              "      <td>84</td>\n",
              "    </tr>\n",
              "    <tr>\n",
              "      <th>15</th>\n",
              "      <td>thing everi adult</td>\n",
              "      <td>83</td>\n",
              "    </tr>\n",
              "    <tr>\n",
              "      <th>16</th>\n",
              "      <td>million snake oil</td>\n",
              "      <td>31</td>\n",
              "    </tr>\n",
              "    <tr>\n",
              "      <th>17</th>\n",
              "      <td>snake oil incom</td>\n",
              "      <td>31</td>\n",
              "    </tr>\n",
              "    <tr>\n",
              "      <th>18</th>\n",
              "      <td>oil incom till</td>\n",
              "      <td>31</td>\n",
              "    </tr>\n",
              "    <tr>\n",
              "      <th>19</th>\n",
              "      <td>incom till end</td>\n",
              "      <td>31</td>\n",
              "    </tr>\n",
              "    <tr>\n",
              "      <th>20</th>\n",
              "      <td>till end flu</td>\n",
              "      <td>31</td>\n",
              "    </tr>\n",
              "    <tr>\n",
              "      <th>21</th>\n",
              "      <td>end flu jab</td>\n",
              "      <td>31</td>\n",
              "    </tr>\n",
              "    <tr>\n",
              "      <th>22</th>\n",
              "      <td>social medium omicron</td>\n",
              "      <td>19</td>\n",
              "    </tr>\n",
              "    <tr>\n",
              "      <th>23</th>\n",
              "      <td>medium omicron le</td>\n",
              "      <td>19</td>\n",
              "    </tr>\n",
              "    <tr>\n",
              "      <th>24</th>\n",
              "      <td>omicron le anxiou</td>\n",
              "      <td>19</td>\n",
              "    </tr>\n",
              "    <tr>\n",
              "      <th>25</th>\n",
              "      <td>le anxiou schedul</td>\n",
              "      <td>19</td>\n",
              "    </tr>\n",
              "    <tr>\n",
              "      <th>26</th>\n",
              "      <td>covid booster shot</td>\n",
              "      <td>18</td>\n",
              "    </tr>\n",
              "    <tr>\n",
              "      <th>27</th>\n",
              "      <td>anxiou schedul covid</td>\n",
              "      <td>18</td>\n",
              "    </tr>\n",
              "    <tr>\n",
              "      <th>28</th>\n",
              "      <td>friend work staff</td>\n",
              "      <td>16</td>\n",
              "    </tr>\n",
              "    <tr>\n",
              "      <th>29</th>\n",
              "      <td>work staff south</td>\n",
              "      <td>16</td>\n",
              "    </tr>\n",
              "  </tbody>\n",
              "</table>\n",
              "</div>"
            ],
            "text/plain": [
              "                  cleaned  Count\n",
              "0      work outbreak test    571\n",
              "1      omicron parti work    570\n",
              "2     parti work outbreak    570\n",
              "3     outbreak test covid    570\n",
              "4   million million readi    177\n",
              "5       dark pretti naili    110\n",
              "6      pretti naili marri    110\n",
              "7       life unedit thank    100\n",
              "8    unedit thank everyon    100\n",
              "9         marri chat life     99\n",
              "10       chat life unedit     99\n",
              "11       naili marri chat     98\n",
              "12     realli final right     84\n",
              "13      final right thing     84\n",
              "14      right thing everi     84\n",
              "15      thing everi adult     83\n",
              "16      million snake oil     31\n",
              "17        snake oil incom     31\n",
              "18         oil incom till     31\n",
              "19         incom till end     31\n",
              "20           till end flu     31\n",
              "21            end flu jab     31\n",
              "22  social medium omicron     19\n",
              "23      medium omicron le     19\n",
              "24      omicron le anxiou     19\n",
              "25      le anxiou schedul     19\n",
              "26     covid booster shot     18\n",
              "27   anxiou schedul covid     18\n",
              "28      friend work staff     16\n",
              "29       work staff south     16"
            ]
          },
          "metadata": {},
          "execution_count": 78
        }
      ]
    },
    {
      "cell_type": "code",
      "source": [
        "import nltk\n",
        "nltk.download('punkt')\n",
        "nltk.download('averaged_perceptron_tagger')"
      ],
      "metadata": {
        "colab": {
          "base_uri": "https://localhost:8080/"
        },
        "id": "0OGZjBAwLGBO",
        "outputId": "0104e372-1ece-425e-9e03-e1913c72a564"
      },
      "execution_count": 79,
      "outputs": [
        {
          "output_type": "stream",
          "name": "stdout",
          "text": [
            "[nltk_data] Downloading package punkt to /root/nltk_data...\n",
            "[nltk_data]   Package punkt is already up-to-date!\n",
            "[nltk_data] Downloading package averaged_perceptron_tagger to\n",
            "[nltk_data]     /root/nltk_data...\n",
            "[nltk_data]   Package averaged_perceptron_tagger is already up-to-\n",
            "[nltk_data]       date!\n"
          ]
        },
        {
          "output_type": "execute_result",
          "data": {
            "text/plain": [
              "True"
            ]
          },
          "metadata": {},
          "execution_count": 79
        }
      ]
    },
    {
      "cell_type": "code",
      "source": [
        "blob = TextBlob(str(df['cleaned']))\n",
        "pos_df = pd.DataFrame(blob.tags, columns = ['word', 'pos'])\n",
        "pos_df = pos_df.pos.value_counts()[:30]"
      ],
      "metadata": {
        "id": "K4LOmQkMLIpY"
      },
      "execution_count": 80,
      "outputs": []
    },
    {
      "cell_type": "code",
      "source": [
        "# Importing spacy\n",
        "import spacy\n",
        "\n",
        "# Loading model\n",
        "nlp = spacy.load('en_core_web_sm',disable=['parser', 'ner'])\n",
        "\n",
        "# Lemmatization with stopwords removal\n",
        "df['lemmatized']=df['cleaned'].apply(lambda x: ' '.join([token.lemma_ for token in list(nlp(x)) if (token.is_stop==False)]))"
      ],
      "metadata": {
        "id": "VUnmn0toLNDf"
      },
      "execution_count": 81,
      "outputs": []
    },
    {
      "cell_type": "code",
      "source": [
        "df_grouped=df[['cleaned','lemmatized']].groupby(by='cleaned').agg(lambda x:' '.join(x))\n",
        "df_grouped.head()"
      ],
      "metadata": {
        "colab": {
          "base_uri": "https://localhost:8080/",
          "height": 238
        },
        "id": "ib2PKKq2LP1y",
        "outputId": "6f835ea3-030f-4908-93f2-a1c3a8d6a277"
      },
      "execution_count": 82,
      "outputs": [
        {
          "output_type": "execute_result",
          "data": {
            "text/html": [
              "<div>\n",
              "<style scoped>\n",
              "    .dataframe tbody tr th:only-of-type {\n",
              "        vertical-align: middle;\n",
              "    }\n",
              "\n",
              "    .dataframe tbody tr th {\n",
              "        vertical-align: top;\n",
              "    }\n",
              "\n",
              "    .dataframe thead th {\n",
              "        text-align: right;\n",
              "    }\n",
              "</style>\n",
              "<table border=\"1\" class=\"dataframe\">\n",
              "  <thead>\n",
              "    <tr style=\"text-align: right;\">\n",
              "      <th></th>\n",
              "      <th>lemmatized</th>\n",
              "    </tr>\n",
              "    <tr>\n",
              "      <th>cleaned</th>\n",
              "      <th></th>\n",
              "    </tr>\n",
              "  </thead>\n",
              "  <tbody>\n",
              "    <tr>\n",
              "      <th></th>\n",
              "      <td>...</td>\n",
              "    </tr>\n",
              "    <tr>\n",
              "      <th>abl third covid jab govern scientif advisori bodi said</th>\n",
              "      <td>abl covid jab govern scientif advisori bodi say</td>\n",
              "    </tr>\n",
              "    <tr>\n",
              "      <th>absolut trigger photo press know exactli r asylum statu</th>\n",
              "      <td>absolut trigger photo press know exactli r asy...</td>\n",
              "    </tr>\n",
              "    <tr>\n",
              "      <th>account vaccin pioneer covid n</th>\n",
              "      <td>account vaccin pioneer covid n</td>\n",
              "    </tr>\n",
              "    <tr>\n",
              "      <th>activ work public plu galor crow</th>\n",
              "      <td>activ work public plu galor crow</td>\n",
              "    </tr>\n",
              "  </tbody>\n",
              "</table>\n",
              "</div>"
            ],
            "text/plain": [
              "                                                                                           lemmatized\n",
              "cleaned                                                                                              \n",
              "                                                                                                  ...\n",
              "abl third covid jab govern scientif advisori bo...    abl covid jab govern scientif advisori bodi say\n",
              "absolut trigger photo press know exactli r asyl...  absolut trigger photo press know exactli r asy...\n",
              "account vaccin pioneer covid n                                         account vaccin pioneer covid n\n",
              "activ work public plu galor crow                                     activ work public plu galor crow"
            ]
          },
          "metadata": {},
          "execution_count": 82
        }
      ]
    },
    {
      "cell_type": "code",
      "source": [
        "# Creating Document Term Matrix\n",
        "from sklearn.feature_extraction.text import CountVectorizer\n",
        "cv=CountVectorizer(analyzer='word')\n",
        "data=cv.fit_transform(df_grouped['lemmatized'])\n",
        "df_dtm = pd.DataFrame(data.toarray(), columns=cv.get_feature_names())\n",
        "df_dtm.index=df_grouped.index\n",
        "df_dtm.head(3)"
      ],
      "metadata": {
        "colab": {
          "base_uri": "https://localhost:8080/",
          "height": 502
        },
        "id": "BzeSYsCFLP73",
        "outputId": "b151bff3-39a4-47ae-b5b7-d116ee2ea6b2"
      },
      "execution_count": 83,
      "outputs": [
        {
          "output_type": "stream",
          "name": "stderr",
          "text": [
            "/usr/local/lib/python3.7/dist-packages/sklearn/utils/deprecation.py:87: FutureWarning: Function get_feature_names is deprecated; get_feature_names is deprecated in 1.0 and will be removed in 1.2. Please use get_feature_names_out instead.\n",
            "  warnings.warn(msg, category=FutureWarning)\n"
          ]
        },
        {
          "output_type": "execute_result",
          "data": {
            "text/html": [
              "<div>\n",
              "<style scoped>\n",
              "    .dataframe tbody tr th:only-of-type {\n",
              "        vertical-align: middle;\n",
              "    }\n",
              "\n",
              "    .dataframe tbody tr th {\n",
              "        vertical-align: top;\n",
              "    }\n",
              "\n",
              "    .dataframe thead th {\n",
              "        text-align: right;\n",
              "    }\n",
              "</style>\n",
              "<table border=\"1\" class=\"dataframe\">\n",
              "  <thead>\n",
              "    <tr style=\"text-align: right;\">\n",
              "      <th></th>\n",
              "      <th>abil</th>\n",
              "      <th>abl</th>\n",
              "      <th>abov</th>\n",
              "      <th>abroad</th>\n",
              "      <th>absolut</th>\n",
              "      <th>access</th>\n",
              "      <th>account</th>\n",
              "      <th>ach</th>\n",
              "      <th>achi</th>\n",
              "      <th>achiev</th>\n",
              "      <th>acquir</th>\n",
              "      <th>activ</th>\n",
              "      <th>actual</th>\n",
              "      <th>ad</th>\n",
              "      <th>adag</th>\n",
              "      <th>addit</th>\n",
              "      <th>adequ</th>\n",
              "      <th>administ</th>\n",
              "      <th>administr</th>\n",
              "      <th>adult</th>\n",
              "      <th>advanc</th>\n",
              "      <th>advic</th>\n",
              "      <th>advis</th>\n",
              "      <th>advisori</th>\n",
              "      <th>aft</th>\n",
              "      <th>afternoon</th>\n",
              "      <th>afterward</th>\n",
              "      <th>aga</th>\n",
              "      <th>age</th>\n",
              "      <th>agenc</th>\n",
              "      <th>ago</th>\n",
              "      <th>ahead</th>\n",
              "      <th>aid</th>\n",
              "      <th>air</th>\n",
              "      <th>aka</th>\n",
              "      <th>al</th>\n",
              "      <th>albeit</th>\n",
              "      <th>alert</th>\n",
              "      <th>allgood</th>\n",
              "      <th>allow</th>\n",
              "      <th>...</th>\n",
              "      <th>wear</th>\n",
              "      <th>wee</th>\n",
              "      <th>week</th>\n",
              "      <th>weekend</th>\n",
              "      <th>welcom</th>\n",
              "      <th>well</th>\n",
              "      <th>whatev</th>\n",
              "      <th>whew</th>\n",
              "      <th>white</th>\n",
              "      <th>wi</th>\n",
              "      <th>wide</th>\n",
              "      <th>win</th>\n",
              "      <th>winner</th>\n",
              "      <th>winter</th>\n",
              "      <th>wise</th>\n",
              "      <th>wish</th>\n",
              "      <th>woke</th>\n",
              "      <th>wonder</th>\n",
              "      <th>wor</th>\n",
              "      <th>word</th>\n",
              "      <th>work</th>\n",
              "      <th>workout</th>\n",
              "      <th>world</th>\n",
              "      <th>worri</th>\n",
              "      <th>worth</th>\n",
              "      <th>wow</th>\n",
              "      <th>wright</th>\n",
              "      <th>ya</th>\n",
              "      <th>ye</th>\n",
              "      <th>yea</th>\n",
              "      <th>yeah</th>\n",
              "      <th>year</th>\n",
              "      <th>yearli</th>\n",
              "      <th>yesterday</th>\n",
              "      <th>york</th>\n",
              "      <th>yr</th>\n",
              "      <th>zac</th>\n",
              "      <th>zero</th>\n",
              "      <th>zombi</th>\n",
              "      <th>zoom</th>\n",
              "    </tr>\n",
              "    <tr>\n",
              "      <th>cleaned</th>\n",
              "      <th></th>\n",
              "      <th></th>\n",
              "      <th></th>\n",
              "      <th></th>\n",
              "      <th></th>\n",
              "      <th></th>\n",
              "      <th></th>\n",
              "      <th></th>\n",
              "      <th></th>\n",
              "      <th></th>\n",
              "      <th></th>\n",
              "      <th></th>\n",
              "      <th></th>\n",
              "      <th></th>\n",
              "      <th></th>\n",
              "      <th></th>\n",
              "      <th></th>\n",
              "      <th></th>\n",
              "      <th></th>\n",
              "      <th></th>\n",
              "      <th></th>\n",
              "      <th></th>\n",
              "      <th></th>\n",
              "      <th></th>\n",
              "      <th></th>\n",
              "      <th></th>\n",
              "      <th></th>\n",
              "      <th></th>\n",
              "      <th></th>\n",
              "      <th></th>\n",
              "      <th></th>\n",
              "      <th></th>\n",
              "      <th></th>\n",
              "      <th></th>\n",
              "      <th></th>\n",
              "      <th></th>\n",
              "      <th></th>\n",
              "      <th></th>\n",
              "      <th></th>\n",
              "      <th></th>\n",
              "      <th></th>\n",
              "      <th></th>\n",
              "      <th></th>\n",
              "      <th></th>\n",
              "      <th></th>\n",
              "      <th></th>\n",
              "      <th></th>\n",
              "      <th></th>\n",
              "      <th></th>\n",
              "      <th></th>\n",
              "      <th></th>\n",
              "      <th></th>\n",
              "      <th></th>\n",
              "      <th></th>\n",
              "      <th></th>\n",
              "      <th></th>\n",
              "      <th></th>\n",
              "      <th></th>\n",
              "      <th></th>\n",
              "      <th></th>\n",
              "      <th></th>\n",
              "      <th></th>\n",
              "      <th></th>\n",
              "      <th></th>\n",
              "      <th></th>\n",
              "      <th></th>\n",
              "      <th></th>\n",
              "      <th></th>\n",
              "      <th></th>\n",
              "      <th></th>\n",
              "      <th></th>\n",
              "      <th></th>\n",
              "      <th></th>\n",
              "      <th></th>\n",
              "      <th></th>\n",
              "      <th></th>\n",
              "      <th></th>\n",
              "      <th></th>\n",
              "      <th></th>\n",
              "      <th></th>\n",
              "      <th></th>\n",
              "    </tr>\n",
              "  </thead>\n",
              "  <tbody>\n",
              "    <tr>\n",
              "      <th></th>\n",
              "      <td>0</td>\n",
              "      <td>0</td>\n",
              "      <td>0</td>\n",
              "      <td>0</td>\n",
              "      <td>0</td>\n",
              "      <td>0</td>\n",
              "      <td>0</td>\n",
              "      <td>0</td>\n",
              "      <td>0</td>\n",
              "      <td>0</td>\n",
              "      <td>0</td>\n",
              "      <td>0</td>\n",
              "      <td>0</td>\n",
              "      <td>0</td>\n",
              "      <td>0</td>\n",
              "      <td>0</td>\n",
              "      <td>0</td>\n",
              "      <td>0</td>\n",
              "      <td>0</td>\n",
              "      <td>0</td>\n",
              "      <td>0</td>\n",
              "      <td>0</td>\n",
              "      <td>0</td>\n",
              "      <td>0</td>\n",
              "      <td>0</td>\n",
              "      <td>0</td>\n",
              "      <td>0</td>\n",
              "      <td>0</td>\n",
              "      <td>0</td>\n",
              "      <td>0</td>\n",
              "      <td>0</td>\n",
              "      <td>0</td>\n",
              "      <td>0</td>\n",
              "      <td>0</td>\n",
              "      <td>0</td>\n",
              "      <td>0</td>\n",
              "      <td>0</td>\n",
              "      <td>0</td>\n",
              "      <td>0</td>\n",
              "      <td>0</td>\n",
              "      <td>...</td>\n",
              "      <td>0</td>\n",
              "      <td>0</td>\n",
              "      <td>0</td>\n",
              "      <td>0</td>\n",
              "      <td>0</td>\n",
              "      <td>0</td>\n",
              "      <td>0</td>\n",
              "      <td>0</td>\n",
              "      <td>0</td>\n",
              "      <td>0</td>\n",
              "      <td>0</td>\n",
              "      <td>0</td>\n",
              "      <td>0</td>\n",
              "      <td>0</td>\n",
              "      <td>0</td>\n",
              "      <td>0</td>\n",
              "      <td>0</td>\n",
              "      <td>0</td>\n",
              "      <td>0</td>\n",
              "      <td>0</td>\n",
              "      <td>0</td>\n",
              "      <td>0</td>\n",
              "      <td>0</td>\n",
              "      <td>0</td>\n",
              "      <td>0</td>\n",
              "      <td>0</td>\n",
              "      <td>0</td>\n",
              "      <td>0</td>\n",
              "      <td>0</td>\n",
              "      <td>0</td>\n",
              "      <td>0</td>\n",
              "      <td>0</td>\n",
              "      <td>0</td>\n",
              "      <td>0</td>\n",
              "      <td>0</td>\n",
              "      <td>0</td>\n",
              "      <td>0</td>\n",
              "      <td>0</td>\n",
              "      <td>0</td>\n",
              "      <td>0</td>\n",
              "    </tr>\n",
              "    <tr>\n",
              "      <th>abl third covid jab govern scientif advisori bodi said</th>\n",
              "      <td>0</td>\n",
              "      <td>1</td>\n",
              "      <td>0</td>\n",
              "      <td>0</td>\n",
              "      <td>0</td>\n",
              "      <td>0</td>\n",
              "      <td>0</td>\n",
              "      <td>0</td>\n",
              "      <td>0</td>\n",
              "      <td>0</td>\n",
              "      <td>0</td>\n",
              "      <td>0</td>\n",
              "      <td>0</td>\n",
              "      <td>0</td>\n",
              "      <td>0</td>\n",
              "      <td>0</td>\n",
              "      <td>0</td>\n",
              "      <td>0</td>\n",
              "      <td>0</td>\n",
              "      <td>0</td>\n",
              "      <td>0</td>\n",
              "      <td>0</td>\n",
              "      <td>0</td>\n",
              "      <td>1</td>\n",
              "      <td>0</td>\n",
              "      <td>0</td>\n",
              "      <td>0</td>\n",
              "      <td>0</td>\n",
              "      <td>0</td>\n",
              "      <td>0</td>\n",
              "      <td>0</td>\n",
              "      <td>0</td>\n",
              "      <td>0</td>\n",
              "      <td>0</td>\n",
              "      <td>0</td>\n",
              "      <td>0</td>\n",
              "      <td>0</td>\n",
              "      <td>0</td>\n",
              "      <td>0</td>\n",
              "      <td>0</td>\n",
              "      <td>...</td>\n",
              "      <td>0</td>\n",
              "      <td>0</td>\n",
              "      <td>0</td>\n",
              "      <td>0</td>\n",
              "      <td>0</td>\n",
              "      <td>0</td>\n",
              "      <td>0</td>\n",
              "      <td>0</td>\n",
              "      <td>0</td>\n",
              "      <td>0</td>\n",
              "      <td>0</td>\n",
              "      <td>0</td>\n",
              "      <td>0</td>\n",
              "      <td>0</td>\n",
              "      <td>0</td>\n",
              "      <td>0</td>\n",
              "      <td>0</td>\n",
              "      <td>0</td>\n",
              "      <td>0</td>\n",
              "      <td>0</td>\n",
              "      <td>0</td>\n",
              "      <td>0</td>\n",
              "      <td>0</td>\n",
              "      <td>0</td>\n",
              "      <td>0</td>\n",
              "      <td>0</td>\n",
              "      <td>0</td>\n",
              "      <td>0</td>\n",
              "      <td>0</td>\n",
              "      <td>0</td>\n",
              "      <td>0</td>\n",
              "      <td>0</td>\n",
              "      <td>0</td>\n",
              "      <td>0</td>\n",
              "      <td>0</td>\n",
              "      <td>0</td>\n",
              "      <td>0</td>\n",
              "      <td>0</td>\n",
              "      <td>0</td>\n",
              "      <td>0</td>\n",
              "    </tr>\n",
              "    <tr>\n",
              "      <th>absolut trigger photo press know exactli r asylum statu</th>\n",
              "      <td>0</td>\n",
              "      <td>0</td>\n",
              "      <td>0</td>\n",
              "      <td>0</td>\n",
              "      <td>1</td>\n",
              "      <td>0</td>\n",
              "      <td>0</td>\n",
              "      <td>0</td>\n",
              "      <td>0</td>\n",
              "      <td>0</td>\n",
              "      <td>0</td>\n",
              "      <td>0</td>\n",
              "      <td>0</td>\n",
              "      <td>0</td>\n",
              "      <td>0</td>\n",
              "      <td>0</td>\n",
              "      <td>0</td>\n",
              "      <td>0</td>\n",
              "      <td>0</td>\n",
              "      <td>0</td>\n",
              "      <td>0</td>\n",
              "      <td>0</td>\n",
              "      <td>0</td>\n",
              "      <td>0</td>\n",
              "      <td>0</td>\n",
              "      <td>0</td>\n",
              "      <td>0</td>\n",
              "      <td>0</td>\n",
              "      <td>0</td>\n",
              "      <td>0</td>\n",
              "      <td>0</td>\n",
              "      <td>0</td>\n",
              "      <td>0</td>\n",
              "      <td>0</td>\n",
              "      <td>0</td>\n",
              "      <td>0</td>\n",
              "      <td>0</td>\n",
              "      <td>0</td>\n",
              "      <td>0</td>\n",
              "      <td>0</td>\n",
              "      <td>...</td>\n",
              "      <td>0</td>\n",
              "      <td>0</td>\n",
              "      <td>0</td>\n",
              "      <td>0</td>\n",
              "      <td>0</td>\n",
              "      <td>0</td>\n",
              "      <td>0</td>\n",
              "      <td>0</td>\n",
              "      <td>0</td>\n",
              "      <td>0</td>\n",
              "      <td>0</td>\n",
              "      <td>0</td>\n",
              "      <td>0</td>\n",
              "      <td>0</td>\n",
              "      <td>0</td>\n",
              "      <td>0</td>\n",
              "      <td>0</td>\n",
              "      <td>0</td>\n",
              "      <td>0</td>\n",
              "      <td>0</td>\n",
              "      <td>0</td>\n",
              "      <td>0</td>\n",
              "      <td>0</td>\n",
              "      <td>0</td>\n",
              "      <td>0</td>\n",
              "      <td>0</td>\n",
              "      <td>0</td>\n",
              "      <td>0</td>\n",
              "      <td>0</td>\n",
              "      <td>0</td>\n",
              "      <td>0</td>\n",
              "      <td>0</td>\n",
              "      <td>0</td>\n",
              "      <td>0</td>\n",
              "      <td>0</td>\n",
              "      <td>0</td>\n",
              "      <td>0</td>\n",
              "      <td>0</td>\n",
              "      <td>0</td>\n",
              "      <td>0</td>\n",
              "    </tr>\n",
              "  </tbody>\n",
              "</table>\n",
              "<p>3 rows × 1258 columns</p>\n",
              "</div>"
            ],
            "text/plain": [
              "                                                    abil  abl  ...  zombi  zoom\n",
              "cleaned                                                        ...             \n",
              "                                                       0    0  ...      0     0\n",
              "abl third covid jab govern scientif advisori bo...     0    1  ...      0     0\n",
              "absolut trigger photo press know exactli r asyl...     0    0  ...      0     0\n",
              "\n",
              "[3 rows x 1258 columns]"
            ]
          },
          "metadata": {},
          "execution_count": 83
        }
      ]
    },
    {
      "cell_type": "code",
      "source": [
        "from textblob import TextBlob\n",
        "df['polarity']=df['lemmatized'].apply(lambda x:TextBlob(x).sentiment.polarity)"
      ],
      "metadata": {
        "id": "F97KVcRqLP--"
      },
      "execution_count": 84,
      "outputs": []
    },
    {
      "cell_type": "code",
      "source": [
        "for index,review in enumerate(df.iloc[df['polarity'].sort_values(ascending=False)[:3].index]['cleaned']):\n",
        "  print('Review {}:\\n'.format(index+1),review)"
      ],
      "metadata": {
        "colab": {
          "base_uri": "https://localhost:8080/"
        },
        "id": "Esc75LDtLQBr",
        "outputId": "b563af9e-4401-4bc9-e7c3-b2e1875b7978"
      },
      "execution_count": 85,
      "outputs": [
        {
          "output_type": "stream",
          "name": "stdout",
          "text": [
            "Review 1:\n",
            " first confirm case u great time\n",
            "Review 2:\n",
            " booster done scienc win bless kaiser\n",
            "Review 3:\n",
            " g boost yesterday feel great might tremend\n"
          ]
        }
      ]
    },
    {
      "cell_type": "code",
      "source": [
        "print(\"3 Random Reviews with Lowest Polarity:\")\n",
        "for index,review in enumerate(df.iloc[df['polarity'].sort_values(ascending=True)[:3].index]['cleaned']):\n",
        "  print('Review {}:\\n'.format(index+1),review)"
      ],
      "metadata": {
        "colab": {
          "base_uri": "https://localhost:8080/"
        },
        "id": "z8uXARGLLQEV",
        "outputId": "0e406740-83a7-408b-ecad-9e0db83d01b9"
      },
      "execution_count": 86,
      "outputs": [
        {
          "output_type": "stream",
          "name": "stdout",
          "text": [
            "3 Random Reviews with Lowest Polarity:\n",
            "Review 1:\n",
            " sorri booster shot vaccin feel real bad slept day woke complet\n",
            "Review 2:\n",
            " sorri booster shot vaccin feel real bad slept day woke complet\n",
            "Review 3:\n",
            " sorri booster shot vaccin feel real bad slept day woke complet\n"
          ]
        }
      ]
    },
    {
      "cell_type": "code",
      "source": [
        "df['word_count'] = df['lemmatized'].apply(lambda x: len(str(x).split()))\n",
        "df"
      ],
      "metadata": {
        "colab": {
          "base_uri": "https://localhost:8080/",
          "height": 545
        },
        "id": "zMsqoROILgXc",
        "outputId": "bb0dd3a4-c3f7-4f53-d658-b59b2a2e6510"
      },
      "execution_count": 87,
      "outputs": [
        {
          "output_type": "execute_result",
          "data": {
            "text/html": [
              "<div>\n",
              "<style scoped>\n",
              "    .dataframe tbody tr th:only-of-type {\n",
              "        vertical-align: middle;\n",
              "    }\n",
              "\n",
              "    .dataframe tbody tr th {\n",
              "        vertical-align: top;\n",
              "    }\n",
              "\n",
              "    .dataframe thead th {\n",
              "        text-align: right;\n",
              "    }\n",
              "</style>\n",
              "<table border=\"1\" class=\"dataframe\">\n",
              "  <thead>\n",
              "    <tr style=\"text-align: right;\">\n",
              "      <th></th>\n",
              "      <th>Clean_Tweet</th>\n",
              "      <th>cleaned</th>\n",
              "      <th>tweet_len</th>\n",
              "      <th>word_count</th>\n",
              "      <th>polarity</th>\n",
              "      <th>lemmatized</th>\n",
              "    </tr>\n",
              "  </thead>\n",
              "  <tbody>\n",
              "    <tr>\n",
              "      <th>0</th>\n",
              "      <td>NEW Dark &amp; ; Pretty  “ She Is Creepy ” Married...</td>\n",
              "      <td>dark pretti creepi marri chat life unedit</td>\n",
              "      <td>58</td>\n",
              "      <td>7</td>\n",
              "      <td>-0.15</td>\n",
              "      <td>dark pretti creepi marri chat life unedit</td>\n",
              "    </tr>\n",
              "    <tr>\n",
              "      <th>1</th>\n",
              "      <td>hi CAROL , yea took a while to get this appoin...</td>\n",
              "      <td>carol yea took appoint know send</td>\n",
              "      <td>73</td>\n",
              "      <td>6</td>\n",
              "      <td>0.00</td>\n",
              "      <td>carol yea take appoint know send</td>\n",
              "    </tr>\n",
              "    <tr>\n",
              "      <th>2</th>\n",
              "      <td>Is it a bad sign if your husband dancing to mu...</td>\n",
              "      <td>bad sign husband danc music</td>\n",
              "      <td>58</td>\n",
              "      <td>5</td>\n",
              "      <td>-0.70</td>\n",
              "      <td>bad sign husband danc music</td>\n",
              "    </tr>\n",
              "    <tr>\n",
              "      <th>3</th>\n",
              "      <td>: 🇳🇴 Omicron party …. That work outbreak is no...</td>\n",
              "      <td>omicron parti work outbreak test covid</td>\n",
              "      <td>63</td>\n",
              "      <td>6</td>\n",
              "      <td>0.00</td>\n",
              "      <td>omicron parti work outbreak test covid</td>\n",
              "    </tr>\n",
              "    <tr>\n",
              "      <th>4</th>\n",
              "      <td>: Even is these are useless against the new , ...</td>\n",
              "      <td>even useless yet onli solut mandat</td>\n",
              "      <td>76</td>\n",
              "      <td>4</td>\n",
              "      <td>-0.50</td>\n",
              "      <td>useless onli solut mandat</td>\n",
              "    </tr>\n",
              "    <tr>\n",
              "      <th>...</th>\n",
              "      <td>...</td>\n",
              "      <td>...</td>\n",
              "      <td>...</td>\n",
              "      <td>...</td>\n",
              "      <td>...</td>\n",
              "      <td>...</td>\n",
              "    </tr>\n",
              "    <tr>\n",
              "      <th>2345</th>\n",
              "      <td>WILL GET THIS :  ,  BOOSTER</td>\n",
              "      <td>booster</td>\n",
              "      <td>20</td>\n",
              "      <td>1</td>\n",
              "      <td>0.00</td>\n",
              "      <td>booster</td>\n",
              "    </tr>\n",
              "    <tr>\n",
              "      <th>2346</th>\n",
              "      <td>Booster jab done thank you</td>\n",
              "      <td>booster jab done thank</td>\n",
              "      <td>26</td>\n",
              "      <td>3</td>\n",
              "      <td>0.00</td>\n",
              "      <td>booster jab thank</td>\n",
              "    </tr>\n",
              "    <tr>\n",
              "      <th>2347</th>\n",
              "      <td>👍🏼 No vaccine is  % effective unless everyone ...</td>\n",
              "      <td>vaccin effect unless everyon</td>\n",
              "      <td>37</td>\n",
              "      <td>3</td>\n",
              "      <td>0.00</td>\n",
              "      <td>vaccin effect everyon</td>\n",
              "    </tr>\n",
              "    <tr>\n",
              "      <th>2348</th>\n",
              "      <td>Can a virus mutate in a person ? Genuine quest...</td>\n",
              "      <td>viru mutat person genuin question covid covid ...</td>\n",
              "      <td>62</td>\n",
              "      <td>8</td>\n",
              "      <td>0.00</td>\n",
              "      <td>viru mutat person genuin question covid covid ...</td>\n",
              "    </tr>\n",
              "    <tr>\n",
              "      <th>2349</th>\n",
              "      <td>trial booster shot ✅ COVIDVaccine</td>\n",
              "      <td>trial booster shot covidvaccin</td>\n",
              "      <td>30</td>\n",
              "      <td>4</td>\n",
              "      <td>0.00</td>\n",
              "      <td>trial booster shoot covidvaccin</td>\n",
              "    </tr>\n",
              "  </tbody>\n",
              "</table>\n",
              "<p>2350 rows × 6 columns</p>\n",
              "</div>"
            ],
            "text/plain": [
              "                                            Clean_Tweet  ...                                         lemmatized\n",
              "0     NEW Dark & ; Pretty  “ She Is Creepy ” Married...  ...          dark pretti creepi marri chat life unedit\n",
              "1     hi CAROL , yea took a while to get this appoin...  ...                   carol yea take appoint know send\n",
              "2     Is it a bad sign if your husband dancing to mu...  ...                        bad sign husband danc music\n",
              "3     : 🇳🇴 Omicron party …. That work outbreak is no...  ...             omicron parti work outbreak test covid\n",
              "4     : Even is these are useless against the new , ...  ...                          useless onli solut mandat\n",
              "...                                                 ...  ...                                                ...\n",
              "2345                        WILL GET THIS :  ,  BOOSTER  ...                                            booster\n",
              "2346                         Booster jab done thank you  ...                                  booster jab thank\n",
              "2347  👍🏼 No vaccine is  % effective unless everyone ...  ...                              vaccin effect everyon\n",
              "2348  Can a virus mutate in a person ? Genuine quest...  ...  viru mutat person genuin question covid covid ...\n",
              "2349                  trial booster shot ✅ COVIDVaccine  ...                    trial booster shoot covidvaccin\n",
              "\n",
              "[2350 rows x 6 columns]"
            ]
          },
          "metadata": {},
          "execution_count": 87
        }
      ]
    },
    {
      "cell_type": "code",
      "source": [
        "from textblob import TextBlob\n",
        "# function to calculate subjectivity\n",
        "def getSubjectivity(cleaned):\n",
        "    return TextBlob(cleaned).sentiment.subjectivity\n",
        "    # function to calculate polarity\n",
        "def getPolarity(cleaned):\n",
        "        return TextBlob(cleaned).sentiment.polarity\n",
        "\n",
        "# function to analyze the reviews\n",
        "def analysis(score):\n",
        "    if score < 0:\n",
        "        return 'Negative'\n",
        "    elif score == 0:\n",
        "        return 'Neutral'\n",
        "    else:\n",
        "        return 'Positive'"
      ],
      "metadata": {
        "id": "u55TYk04Lj_6"
      },
      "execution_count": 88,
      "outputs": []
    },
    {
      "cell_type": "code",
      "source": [
        "fin_data = pd.DataFrame(df[['cleaned', 'lemmatized']])"
      ],
      "metadata": {
        "id": "I-zttMlbLoAG"
      },
      "execution_count": 89,
      "outputs": []
    },
    {
      "cell_type": "code",
      "source": [
        "df['Subjectivity'] = df['lemmatized'].apply(getSubjectivity) \n",
        "df['Polarity'] = df['lemmatized'].apply(getPolarity) \n",
        "df['Analysis'] = df['Polarity'].apply(analysis)\n",
        "df"
      ],
      "metadata": {
        "colab": {
          "base_uri": "https://localhost:8080/",
          "height": 719
        },
        "id": "EZAvNC_uLqtz",
        "outputId": "fb2af726-0e78-4c41-e8df-93987475b255"
      },
      "execution_count": 91,
      "outputs": [
        {
          "output_type": "execute_result",
          "data": {
            "text/html": [
              "<div>\n",
              "<style scoped>\n",
              "    .dataframe tbody tr th:only-of-type {\n",
              "        vertical-align: middle;\n",
              "    }\n",
              "\n",
              "    .dataframe tbody tr th {\n",
              "        vertical-align: top;\n",
              "    }\n",
              "\n",
              "    .dataframe thead th {\n",
              "        text-align: right;\n",
              "    }\n",
              "</style>\n",
              "<table border=\"1\" class=\"dataframe\">\n",
              "  <thead>\n",
              "    <tr style=\"text-align: right;\">\n",
              "      <th></th>\n",
              "      <th>Clean_Tweet</th>\n",
              "      <th>cleaned</th>\n",
              "      <th>tweet_len</th>\n",
              "      <th>word_count</th>\n",
              "      <th>polarity</th>\n",
              "      <th>lemmatized</th>\n",
              "      <th>Subjectivity</th>\n",
              "      <th>Polarity</th>\n",
              "      <th>Analysis</th>\n",
              "    </tr>\n",
              "  </thead>\n",
              "  <tbody>\n",
              "    <tr>\n",
              "      <th>0</th>\n",
              "      <td>NEW Dark &amp; ; Pretty  “ She Is Creepy ” Married...</td>\n",
              "      <td>dark pretti creepi marri chat life unedit</td>\n",
              "      <td>58</td>\n",
              "      <td>7</td>\n",
              "      <td>-0.15</td>\n",
              "      <td>dark pretti creepi marri chat life unedit</td>\n",
              "      <td>0.400000</td>\n",
              "      <td>-0.15</td>\n",
              "      <td>Negative</td>\n",
              "    </tr>\n",
              "    <tr>\n",
              "      <th>1</th>\n",
              "      <td>hi CAROL , yea took a while to get this appoin...</td>\n",
              "      <td>carol yea took appoint know send</td>\n",
              "      <td>73</td>\n",
              "      <td>6</td>\n",
              "      <td>0.00</td>\n",
              "      <td>carol yea take appoint know send</td>\n",
              "      <td>0.000000</td>\n",
              "      <td>0.00</td>\n",
              "      <td>Neutral</td>\n",
              "    </tr>\n",
              "    <tr>\n",
              "      <th>2</th>\n",
              "      <td>Is it a bad sign if your husband dancing to mu...</td>\n",
              "      <td>bad sign husband danc music</td>\n",
              "      <td>58</td>\n",
              "      <td>5</td>\n",
              "      <td>-0.70</td>\n",
              "      <td>bad sign husband danc music</td>\n",
              "      <td>0.666667</td>\n",
              "      <td>-0.70</td>\n",
              "      <td>Negative</td>\n",
              "    </tr>\n",
              "    <tr>\n",
              "      <th>3</th>\n",
              "      <td>: 🇳🇴 Omicron party …. That work outbreak is no...</td>\n",
              "      <td>omicron parti work outbreak test covid</td>\n",
              "      <td>63</td>\n",
              "      <td>6</td>\n",
              "      <td>0.00</td>\n",
              "      <td>omicron parti work outbreak test covid</td>\n",
              "      <td>0.000000</td>\n",
              "      <td>0.00</td>\n",
              "      <td>Neutral</td>\n",
              "    </tr>\n",
              "    <tr>\n",
              "      <th>4</th>\n",
              "      <td>: Even is these are useless against the new , ...</td>\n",
              "      <td>even useless yet onli solut mandat</td>\n",
              "      <td>76</td>\n",
              "      <td>4</td>\n",
              "      <td>-0.50</td>\n",
              "      <td>useless onli solut mandat</td>\n",
              "      <td>0.200000</td>\n",
              "      <td>-0.50</td>\n",
              "      <td>Negative</td>\n",
              "    </tr>\n",
              "    <tr>\n",
              "      <th>...</th>\n",
              "      <td>...</td>\n",
              "      <td>...</td>\n",
              "      <td>...</td>\n",
              "      <td>...</td>\n",
              "      <td>...</td>\n",
              "      <td>...</td>\n",
              "      <td>...</td>\n",
              "      <td>...</td>\n",
              "      <td>...</td>\n",
              "    </tr>\n",
              "    <tr>\n",
              "      <th>2345</th>\n",
              "      <td>WILL GET THIS :  ,  BOOSTER</td>\n",
              "      <td>booster</td>\n",
              "      <td>20</td>\n",
              "      <td>1</td>\n",
              "      <td>0.00</td>\n",
              "      <td>booster</td>\n",
              "      <td>0.000000</td>\n",
              "      <td>0.00</td>\n",
              "      <td>Neutral</td>\n",
              "    </tr>\n",
              "    <tr>\n",
              "      <th>2346</th>\n",
              "      <td>Booster jab done thank you</td>\n",
              "      <td>booster jab done thank</td>\n",
              "      <td>26</td>\n",
              "      <td>3</td>\n",
              "      <td>0.00</td>\n",
              "      <td>booster jab thank</td>\n",
              "      <td>0.000000</td>\n",
              "      <td>0.00</td>\n",
              "      <td>Neutral</td>\n",
              "    </tr>\n",
              "    <tr>\n",
              "      <th>2347</th>\n",
              "      <td>👍🏼 No vaccine is  % effective unless everyone ...</td>\n",
              "      <td>vaccin effect unless everyon</td>\n",
              "      <td>37</td>\n",
              "      <td>3</td>\n",
              "      <td>0.00</td>\n",
              "      <td>vaccin effect everyon</td>\n",
              "      <td>0.000000</td>\n",
              "      <td>0.00</td>\n",
              "      <td>Neutral</td>\n",
              "    </tr>\n",
              "    <tr>\n",
              "      <th>2348</th>\n",
              "      <td>Can a virus mutate in a person ? Genuine quest...</td>\n",
              "      <td>viru mutat person genuin question covid covid ...</td>\n",
              "      <td>62</td>\n",
              "      <td>8</td>\n",
              "      <td>0.00</td>\n",
              "      <td>viru mutat person genuin question covid covid ...</td>\n",
              "      <td>0.000000</td>\n",
              "      <td>0.00</td>\n",
              "      <td>Neutral</td>\n",
              "    </tr>\n",
              "    <tr>\n",
              "      <th>2349</th>\n",
              "      <td>trial booster shot ✅ COVIDVaccine</td>\n",
              "      <td>trial booster shot covidvaccin</td>\n",
              "      <td>30</td>\n",
              "      <td>4</td>\n",
              "      <td>0.00</td>\n",
              "      <td>trial booster shoot covidvaccin</td>\n",
              "      <td>0.000000</td>\n",
              "      <td>0.00</td>\n",
              "      <td>Neutral</td>\n",
              "    </tr>\n",
              "  </tbody>\n",
              "</table>\n",
              "<p>2350 rows × 9 columns</p>\n",
              "</div>"
            ],
            "text/plain": [
              "                                            Clean_Tweet  ...  Analysis\n",
              "0     NEW Dark & ; Pretty  “ She Is Creepy ” Married...  ...  Negative\n",
              "1     hi CAROL , yea took a while to get this appoin...  ...   Neutral\n",
              "2     Is it a bad sign if your husband dancing to mu...  ...  Negative\n",
              "3     : 🇳🇴 Omicron party …. That work outbreak is no...  ...   Neutral\n",
              "4     : Even is these are useless against the new , ...  ...  Negative\n",
              "...                                                 ...  ...       ...\n",
              "2345                        WILL GET THIS :  ,  BOOSTER  ...   Neutral\n",
              "2346                         Booster jab done thank you  ...   Neutral\n",
              "2347  👍🏼 No vaccine is  % effective unless everyone ...  ...   Neutral\n",
              "2348  Can a virus mutate in a person ? Genuine quest...  ...   Neutral\n",
              "2349                  trial booster shot ✅ COVIDVaccine  ...   Neutral\n",
              "\n",
              "[2350 rows x 9 columns]"
            ]
          },
          "metadata": {},
          "execution_count": 91
        }
      ]
    },
    {
      "cell_type": "code",
      "source": [
        "tb_counts = df.Analysis.value_counts()\n",
        "\n",
        "tb_counts"
      ],
      "metadata": {
        "colab": {
          "base_uri": "https://localhost:8080/"
        },
        "id": "x1B3eVg7L4UR",
        "outputId": "23c1a9ac-acd4-4aaa-8a77-75a5076d9054"
      },
      "execution_count": 92,
      "outputs": [
        {
          "output_type": "execute_result",
          "data": {
            "text/plain": [
              "Neutral     1757\n",
              "Positive     390\n",
              "Negative     203\n",
              "Name: Analysis, dtype: int64"
            ]
          },
          "metadata": {},
          "execution_count": 92
        }
      ]
    },
    {
      "cell_type": "code",
      "source": [
        "df.Analysis.value_counts().plot(kind='barh')"
      ],
      "metadata": {
        "colab": {
          "base_uri": "https://localhost:8080/",
          "height": 282
        },
        "id": "9NN6wskKL-QO",
        "outputId": "0d3363e1-28b7-42dc-9633-fb8ffe96b9d3"
      },
      "execution_count": 93,
      "outputs": [
        {
          "output_type": "execute_result",
          "data": {
            "text/plain": [
              "<matplotlib.axes._subplots.AxesSubplot at 0x7ff0896a8c50>"
            ]
          },
          "metadata": {},
          "execution_count": 93
        },
        {
          "output_type": "display_data",
          "data": {
            "image/png": "[encoded data removed]",
            "text/plain": [
              "<Figure size 432x288 with 1 Axes>"
            ]
          },
          "metadata": {
            "needs_background": "light"
          }
        }
      ]
    }
  ]
}