{
  "nbformat": 4,
  "nbformat_minor": 0,
  "metadata": {
    "colab": {
      "name": "ScrapeTweeter.ipynb",
      "provenance": [],
      "collapsed_sections": []
    },
    "kernelspec": {
      "display_name": "Python 3",
      "name": "python3"
    },
    "language_info": {
      "name": "python"
    }
  },
  "cells": [
    {
      "cell_type": "code",
      "metadata": {
        "id": "4qhK48Gk4mwV"
      },
      "source": [
        "pip install tweet-preprocessor\n"
      ],
      "execution_count": null,
      "outputs": []
    },
    {
      "cell_type": "code",
      "metadata": {
        "colab": {
          "base_uri": "https://localhost:8080/"
        },
        "id": "vGM7iLfM31pr",
        "outputId": "be648383-0a7d-4749-c02b-a7021df727b2"
      },
      "source": [
        "import os\n",
        "import tweepy as tw\n",
        "import pandas as pd\n",
        "import time\n",
        "consumer_key = 'u7L1lnR7HN85dn1qnTFO1cegb'\n",
        "consumer_secret = 'QN1JrEmit2To46ZcwWAT4aI5QGWZXWRDDUPnMCWV5M66SFc8wT'\n",
        "access_key = '1144377060036620294-BSEicX3zH7hIhksbNZV9mrWFwa07cO'\n",
        "access_secret = 'gxWMOodDq1nQAjix9mHEOUSAtgE7XH5ctHInm0XRslJce'\n",
        "\n",
        "auth = tw.OAuthHandler(consumer_key, consumer_secret)\n",
        "#auth.set_access_token(access_key, access_secret)\n",
        "api = tw.API(auth, wait_on_rate_limit=True)\n",
        "search_words = \"#covidEconomyEffects\"\n",
        "date_since = \"2019-01-12\"\n",
        "time.sleep(2)\n",
        "tweets = tw.Cursor(api.search, \n",
        "                           q=search_words,\n",
        "                           lang=\"en\",\n",
        "                           since=date_since).items(100000)\n",
        "\n",
        "users_locs = [[tweet.text,tweet.created_at,tweet.user.screen_name, tweet.user.location] for tweet in tweets]\n",
        "users_locs"
      ],
      "execution_count": 6,
      "outputs": [
        {
          "output_type": "execute_result",
          "data": {
            "text/plain": [
              "[]"
            ]
          },
          "metadata": {},
          "execution_count": 6
        }
      ]
    },
    {
      "cell_type": "code",
      "metadata": {
        "colab": {
          "base_uri": "https://localhost:8080/",
          "height": 143
        },
        "id": "_b61EdMuSfbU",
        "outputId": "61cf8c4a-62b7-4cdb-cde8-cfea285d558a"
      },
      "source": [
        "tweet_text = pd.DataFrame(data=users_locs, \n",
        "                    columns=['text','date','user', \"location\"])\n",
        "tweet_text.to_csv(\"tweets_covid19.csv\")\n",
        "tweet_text"
      ],
      "execution_count": 3,
      "outputs": [
        {
          "output_type": "execute_result",
          "data": {
            "text/html": [
              "<div>\n",
              "<style scoped>\n",
              "    .dataframe tbody tr th:only-of-type {\n",
              "        vertical-align: middle;\n",
              "    }\n",
              "\n",
              "    .dataframe tbody tr th {\n",
              "        vertical-align: top;\n",
              "    }\n",
              "\n",
              "    .dataframe thead th {\n",
              "        text-align: right;\n",
              "    }\n",
              "</style>\n",
              "<table border=\"1\" class=\"dataframe\">\n",
              "  <thead>\n",
              "    <tr style=\"text-align: right;\">\n",
              "      <th></th>\n",
              "      <th>text</th>\n",
              "      <th>date</th>\n",
              "      <th>user</th>\n",
              "      <th>location</th>\n",
              "    </tr>\n",
              "  </thead>\n",
              "  <tbody>\n",
              "    <tr>\n",
              "      <th>0</th>\n",
              "      <td>RT @goldingkentucky: Mental health impact of C...</td>\n",
              "      <td>2021-12-06 17:18:53</td>\n",
              "      <td>ChxPhe</td>\n",
              "      <td></td>\n",
              "    </tr>\n",
              "    <tr>\n",
              "      <th>1</th>\n",
              "      <td>RT @AssocMHP: 📢New live briefing highlighting ...</td>\n",
              "      <td>2021-12-06 17:18:51</td>\n",
              "      <td>ChxPhe</td>\n",
              "      <td></td>\n",
              "    </tr>\n",
              "    <tr>\n",
              "      <th>2</th>\n",
              "      <td>RT @AssocMHP: 📢New live briefing highlighting ...</td>\n",
              "      <td>2021-11-29 19:10:45</td>\n",
              "      <td>ofongpry</td>\n",
              "      <td></td>\n",
              "    </tr>\n",
              "  </tbody>\n",
              "</table>\n",
              "</div>"
            ],
            "text/plain": [
              "                                                text  ... location\n",
              "0  RT @goldingkentucky: Mental health impact of C...  ...         \n",
              "1  RT @AssocMHP: 📢New live briefing highlighting ...  ...         \n",
              "2  RT @AssocMHP: 📢New live briefing highlighting ...  ...         \n",
              "\n",
              "[3 rows x 4 columns]"
            ]
          },
          "metadata": {},
          "execution_count": 3
        }
      ]
    }
  ]
}